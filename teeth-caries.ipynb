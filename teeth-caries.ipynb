{
 "cells": [
  {
   "cell_type": "code",
   "execution_count": 1,
   "id": "df8bb657",
   "metadata": {
    "execution": {
     "iopub.execute_input": "2022-06-24T20:51:47.011461Z",
     "iopub.status.busy": "2022-06-24T20:51:47.010089Z",
     "iopub.status.idle": "2022-06-24T20:51:47.145909Z",
     "shell.execute_reply": "2022-06-24T20:51:47.144988Z"
    },
    "papermill": {
     "duration": 0.155227,
     "end_time": "2022-06-24T20:51:47.148754",
     "exception": false,
     "start_time": "2022-06-24T20:51:46.993527",
     "status": "completed"
    },
    "tags": []
   },
   "outputs": [],
   "source": [
    "import os\n",
    "from shutil import copy\n",
    "import pandas as pd\n",
    "from tqdm.notebook import tqdm\n",
    "import numpy as np\n",
    "import json"
   ]
  },
  {
   "cell_type": "markdown",
   "id": "88bd4197",
   "metadata": {
    "papermill": {
     "duration": 0.013287,
     "end_time": "2022-06-24T20:51:47.175366",
     "exception": false,
     "start_time": "2022-06-24T20:51:47.162079",
     "status": "completed"
    },
    "tags": []
   },
   "source": [
    "## Read data"
   ]
  },
  {
   "cell_type": "code",
   "execution_count": 2,
   "id": "29e6eeef",
   "metadata": {
    "execution": {
     "iopub.execute_input": "2022-06-24T20:51:47.204245Z",
     "iopub.status.busy": "2022-06-24T20:51:47.203331Z",
     "iopub.status.idle": "2022-06-24T20:51:47.254125Z",
     "shell.execute_reply": "2022-06-24T20:51:47.252686Z"
    },
    "papermill": {
     "duration": 0.068683,
     "end_time": "2022-06-24T20:51:47.257067",
     "exception": false,
     "start_time": "2022-06-24T20:51:47.188384",
     "status": "completed"
    },
    "tags": []
   },
   "outputs": [],
   "source": [
    "with open ('../input/caries-json-annotations/annot.json') as file:\n",
    "    annot = json.load(file)"
   ]
  },
  {
   "cell_type": "code",
   "execution_count": 3,
   "id": "edfa12f5",
   "metadata": {
    "execution": {
     "iopub.execute_input": "2022-06-24T20:51:47.304578Z",
     "iopub.status.busy": "2022-06-24T20:51:47.304274Z",
     "iopub.status.idle": "2022-06-24T20:51:47.556492Z",
     "shell.execute_reply": "2022-06-24T20:51:47.555572Z"
    },
    "papermill": {
     "duration": 0.276418,
     "end_time": "2022-06-24T20:51:47.558477",
     "exception": false,
     "start_time": "2022-06-24T20:51:47.282059",
     "status": "completed"
    },
    "tags": []
   },
   "outputs": [
    {
     "data": {
      "text/html": [
       "<div>\n",
       "<style scoped>\n",
       "    .dataframe tbody tr th:only-of-type {\n",
       "        vertical-align: middle;\n",
       "    }\n",
       "\n",
       "    .dataframe tbody tr th {\n",
       "        vertical-align: top;\n",
       "    }\n",
       "\n",
       "    .dataframe thead th {\n",
       "        text-align: right;\n",
       "    }\n",
       "</style>\n",
       "<table border=\"1\" class=\"dataframe\">\n",
       "  <thead>\n",
       "    <tr style=\"text-align: right;\">\n",
       "      <th></th>\n",
       "      <th>bbox</th>\n",
       "      <th>category_id</th>\n",
       "      <th>file_name</th>\n",
       "      <th>x_from</th>\n",
       "      <th>y_from</th>\n",
       "      <th>width</th>\n",
       "      <th>height</th>\n",
       "      <th>class</th>\n",
       "    </tr>\n",
       "  </thead>\n",
       "  <tbody>\n",
       "    <tr>\n",
       "      <th>0</th>\n",
       "      <td>[120, 51, 132, 44]</td>\n",
       "      <td>1</td>\n",
       "      <td>582.jpg</td>\n",
       "      <td>120</td>\n",
       "      <td>51</td>\n",
       "      <td>132</td>\n",
       "      <td>44</td>\n",
       "      <td>teeth</td>\n",
       "    </tr>\n",
       "    <tr>\n",
       "      <th>1</th>\n",
       "      <td>[79, 64, 36, 33]</td>\n",
       "      <td>1</td>\n",
       "      <td>582.jpg</td>\n",
       "      <td>79</td>\n",
       "      <td>64</td>\n",
       "      <td>36</td>\n",
       "      <td>33</td>\n",
       "      <td>teeth</td>\n",
       "    </tr>\n",
       "    <tr>\n",
       "      <th>2</th>\n",
       "      <td>[52, 91, 39, 55]</td>\n",
       "      <td>1</td>\n",
       "      <td>582.jpg</td>\n",
       "      <td>52</td>\n",
       "      <td>91</td>\n",
       "      <td>39</td>\n",
       "      <td>55</td>\n",
       "      <td>teeth</td>\n",
       "    </tr>\n",
       "    <tr>\n",
       "      <th>3</th>\n",
       "      <td>[60, 201, 44, 55]</td>\n",
       "      <td>1</td>\n",
       "      <td>582.jpg</td>\n",
       "      <td>60</td>\n",
       "      <td>201</td>\n",
       "      <td>44</td>\n",
       "      <td>55</td>\n",
       "      <td>teeth</td>\n",
       "    </tr>\n",
       "    <tr>\n",
       "      <th>4</th>\n",
       "      <td>[233, 198, 23, 58]</td>\n",
       "      <td>1</td>\n",
       "      <td>582.jpg</td>\n",
       "      <td>233</td>\n",
       "      <td>198</td>\n",
       "      <td>23</td>\n",
       "      <td>58</td>\n",
       "      <td>teeth</td>\n",
       "    </tr>\n",
       "    <tr>\n",
       "      <th>...</th>\n",
       "      <td>...</td>\n",
       "      <td>...</td>\n",
       "      <td>...</td>\n",
       "      <td>...</td>\n",
       "      <td>...</td>\n",
       "      <td>...</td>\n",
       "      <td>...</td>\n",
       "      <td>...</td>\n",
       "    </tr>\n",
       "    <tr>\n",
       "      <th>4362</th>\n",
       "      <td>[1, 47, 43, 32]</td>\n",
       "      <td>1</td>\n",
       "      <td>1186.jpg</td>\n",
       "      <td>1</td>\n",
       "      <td>47</td>\n",
       "      <td>43</td>\n",
       "      <td>32</td>\n",
       "      <td>teeth</td>\n",
       "    </tr>\n",
       "    <tr>\n",
       "      <th>4363</th>\n",
       "      <td>[6, 31, 44, 18]</td>\n",
       "      <td>1</td>\n",
       "      <td>1186.jpg</td>\n",
       "      <td>6</td>\n",
       "      <td>31</td>\n",
       "      <td>44</td>\n",
       "      <td>18</td>\n",
       "      <td>teeth</td>\n",
       "    </tr>\n",
       "    <tr>\n",
       "      <th>4364</th>\n",
       "      <td>[236, 33, 20, 46]</td>\n",
       "      <td>1</td>\n",
       "      <td>1186.jpg</td>\n",
       "      <td>236</td>\n",
       "      <td>33</td>\n",
       "      <td>20</td>\n",
       "      <td>46</td>\n",
       "      <td>teeth</td>\n",
       "    </tr>\n",
       "    <tr>\n",
       "      <th>4365</th>\n",
       "      <td>[51, 1, 79, 25]</td>\n",
       "      <td>1</td>\n",
       "      <td>1186.jpg</td>\n",
       "      <td>51</td>\n",
       "      <td>1</td>\n",
       "      <td>79</td>\n",
       "      <td>25</td>\n",
       "      <td>teeth</td>\n",
       "    </tr>\n",
       "    <tr>\n",
       "      <th>4366</th>\n",
       "      <td>[130, 1, 74, 22]</td>\n",
       "      <td>1</td>\n",
       "      <td>1186.jpg</td>\n",
       "      <td>130</td>\n",
       "      <td>1</td>\n",
       "      <td>74</td>\n",
       "      <td>22</td>\n",
       "      <td>teeth</td>\n",
       "    </tr>\n",
       "  </tbody>\n",
       "</table>\n",
       "<p>4367 rows × 8 columns</p>\n",
       "</div>"
      ],
      "text/plain": [
       "                    bbox  category_id file_name  x_from  y_from  width  \\\n",
       "0     [120, 51, 132, 44]            1   582.jpg     120      51    132   \n",
       "1       [79, 64, 36, 33]            1   582.jpg      79      64     36   \n",
       "2       [52, 91, 39, 55]            1   582.jpg      52      91     39   \n",
       "3      [60, 201, 44, 55]            1   582.jpg      60     201     44   \n",
       "4     [233, 198, 23, 58]            1   582.jpg     233     198     23   \n",
       "...                  ...          ...       ...     ...     ...    ...   \n",
       "4362     [1, 47, 43, 32]            1  1186.jpg       1      47     43   \n",
       "4363     [6, 31, 44, 18]            1  1186.jpg       6      31     44   \n",
       "4364   [236, 33, 20, 46]            1  1186.jpg     236      33     20   \n",
       "4365     [51, 1, 79, 25]            1  1186.jpg      51       1     79   \n",
       "4366    [130, 1, 74, 22]            1  1186.jpg     130       1     74   \n",
       "\n",
       "      height  class  \n",
       "0         44  teeth  \n",
       "1         33  teeth  \n",
       "2         55  teeth  \n",
       "3         55  teeth  \n",
       "4         58  teeth  \n",
       "...      ...    ...  \n",
       "4362      32  teeth  \n",
       "4363      18  teeth  \n",
       "4364      46  teeth  \n",
       "4365      25  teeth  \n",
       "4366      22  teeth  \n",
       "\n",
       "[4367 rows x 8 columns]"
      ]
     },
     "execution_count": 3,
     "metadata": {},
     "output_type": "execute_result"
    }
   ],
   "source": [
    "annotations = pd.DataFrame(annot['annotations'])\n",
    "images = pd.DataFrame(annot['images']).rename(columns={'id':'image_id'})\n",
    "\n",
    "data = annotations.merge(images, on='image_id')\n",
    "\n",
    "data = data[['bbox', 'category_id', 'file_name']]\n",
    "data['x_from'] = data['bbox'].apply(lambda x: x[0])\n",
    "data['y_from'] = data['bbox'].apply(lambda x: x[1])\n",
    "data['width'] = data['bbox'].apply(lambda x: x[2])\n",
    "data['height'] = data['bbox'].apply(lambda x: x[3])\n",
    "data['class'] = data['category_id'].replace({1:'teeth', 2:'caries'})\n",
    "data = data[(data['x_from'] > 0) & (data['y_from'] > 0) & (data['width'] > 0) & (data['height'] > 0)]\n",
    "\n",
    "data = data[data['file_name'].isin(os.listdir('../input/clear-teeth-dataset/clear_dataset'))]\n",
    "data = data.reset_index(drop=True)\n",
    "data"
   ]
  },
  {
   "cell_type": "markdown",
   "id": "5fc051d5",
   "metadata": {
    "papermill": {
     "duration": 0.012796,
     "end_time": "2022-06-24T20:51:47.619270",
     "exception": false,
     "start_time": "2022-06-24T20:51:47.606474",
     "status": "completed"
    },
    "tags": []
   },
   "source": [
    "## Data preparation"
   ]
  },
  {
   "cell_type": "code",
   "execution_count": 5,
   "id": "dee9a652",
   "metadata": {
    "execution": {
     "iopub.execute_input": "2022-06-24T20:51:47.647451Z",
     "iopub.status.busy": "2022-06-24T20:51:47.646557Z",
     "iopub.status.idle": "2022-06-24T20:51:47.652565Z",
     "shell.execute_reply": "2022-06-24T20:51:47.651718Z"
    },
    "papermill": {
     "duration": 0.021788,
     "end_time": "2022-06-24T20:51:47.654382",
     "exception": false,
     "start_time": "2022-06-24T20:51:47.632594",
     "status": "completed"
    },
    "tags": []
   },
   "outputs": [],
   "source": [
    "filenames = data.file_name.unique()\n",
    "np.random.seed(0)\n",
    "np.random.shuffle(filenames)"
   ]
  },
  {
   "cell_type": "code",
   "execution_count": 6,
   "id": "f9966fd0",
   "metadata": {
    "execution": {
     "iopub.execute_input": "2022-06-24T20:51:47.682531Z",
     "iopub.status.busy": "2022-06-24T20:51:47.681783Z",
     "iopub.status.idle": "2022-06-24T20:51:47.687983Z",
     "shell.execute_reply": "2022-06-24T20:51:47.687097Z"
    },
    "papermill": {
     "duration": 0.022179,
     "end_time": "2022-06-24T20:51:47.690082",
     "exception": false,
     "start_time": "2022-06-24T20:51:47.667903",
     "status": "completed"
    },
    "tags": []
   },
   "outputs": [
    {
     "data": {
      "text/plain": [
       "488"
      ]
     },
     "execution_count": 6,
     "metadata": {},
     "output_type": "execute_result"
    }
   ],
   "source": [
    "len(filenames)"
   ]
  },
  {
   "cell_type": "code",
   "execution_count": 7,
   "id": "59218d81",
   "metadata": {
    "execution": {
     "iopub.execute_input": "2022-06-24T20:51:47.717421Z",
     "iopub.status.busy": "2022-06-24T20:51:47.717155Z",
     "iopub.status.idle": "2022-06-24T20:51:47.721406Z",
     "shell.execute_reply": "2022-06-24T20:51:47.720543Z"
    },
    "papermill": {
     "duration": 0.019982,
     "end_time": "2022-06-24T20:51:47.723257",
     "exception": false,
     "start_time": "2022-06-24T20:51:47.703275",
     "status": "completed"
    },
    "tags": []
   },
   "outputs": [],
   "source": [
    "train_files = filenames[:-60]\n",
    "val_files = filenames[-60:-10]\n",
    "test_files = filenames[-10:]"
   ]
  },
  {
   "cell_type": "code",
   "execution_count": 8,
   "id": "a4e58512",
   "metadata": {
    "execution": {
     "iopub.execute_input": "2022-06-24T20:51:47.751005Z",
     "iopub.status.busy": "2022-06-24T20:51:47.750248Z",
     "iopub.status.idle": "2022-06-24T20:51:47.756702Z",
     "shell.execute_reply": "2022-06-24T20:51:47.755676Z"
    },
    "papermill": {
     "duration": 0.022405,
     "end_time": "2022-06-24T20:51:47.758630",
     "exception": false,
     "start_time": "2022-06-24T20:51:47.736225",
     "status": "completed"
    },
    "tags": []
   },
   "outputs": [
    {
     "data": {
      "text/plain": [
       "428"
      ]
     },
     "execution_count": 8,
     "metadata": {},
     "output_type": "execute_result"
    }
   ],
   "source": [
    "len(train_files)"
   ]
  },
  {
   "cell_type": "markdown",
   "id": "efb9041b",
   "metadata": {
    "papermill": {
     "duration": 0.013027,
     "end_time": "2022-06-24T20:51:47.784725",
     "exception": false,
     "start_time": "2022-06-24T20:51:47.771698",
     "status": "completed"
    },
    "tags": []
   },
   "source": [
    "## Split data to train, val, test"
   ]
  },
  {
   "cell_type": "code",
   "execution_count": 12,
   "id": "5860b4d4",
   "metadata": {
    "execution": {
     "iopub.execute_input": "2022-06-24T20:51:48.564040Z",
     "iopub.status.busy": "2022-06-24T20:51:48.563091Z",
     "iopub.status.idle": "2022-06-24T20:51:51.956886Z",
     "shell.execute_reply": "2022-06-24T20:51:51.955883Z"
    },
    "papermill": {
     "duration": 3.410972,
     "end_time": "2022-06-24T20:51:51.959368",
     "exception": false,
     "start_time": "2022-06-24T20:51:48.548396",
     "status": "completed"
    },
    "tags": []
   },
   "outputs": [],
   "source": [
    "train = data[data.file_name.isin(train_files)]\n",
    "train.to_csv('train.csv', index=False)\n",
    "os.mkdir('train')\n",
    "for i in train_files:\n",
    "    copy(f'../input/teeth-caries-children/all/{i}', f'train/{i}')\n",
    "    \n",
    "val = data[data.file_name.isin(val_files)]\n",
    "val.to_csv('val.csv', index=False)\n",
    "os.mkdir('val')\n",
    "for i in val_files:\n",
    "    copy(f'../input/teeth-caries-children/all/{i}', f'val/{i}')\n",
    "\n",
    "test = data[data.file_name.isin(test_files)]\n",
    "test.to_csv('test.csv', index=False)\n",
    "os.mkdir('test')\n",
    "for i in test_files:\n",
    "    copy(f'../input/teeth-caries-children/all/{i}', f'test/{i}')"
   ]
  },
  {
   "cell_type": "markdown",
   "id": "5e1b90f5",
   "metadata": {
    "papermill": {
     "duration": 0.013202,
     "end_time": "2022-06-24T20:51:51.987545",
     "exception": false,
     "start_time": "2022-06-24T20:51:51.974343",
     "status": "completed"
    },
    "tags": []
   },
   "source": [
    "## Install libs, requirements"
   ]
  },
  {
   "cell_type": "code",
   "execution_count": 13,
   "id": "16be3cc0",
   "metadata": {
    "execution": {
     "iopub.execute_input": "2022-06-24T20:51:52.016326Z",
     "iopub.status.busy": "2022-06-24T20:51:52.015478Z",
     "iopub.status.idle": "2022-06-24T20:51:53.368112Z",
     "shell.execute_reply": "2022-06-24T20:51:53.366960Z"
    },
    "papermill": {
     "duration": 1.369673,
     "end_time": "2022-06-24T20:51:53.370594",
     "exception": false,
     "start_time": "2022-06-24T20:51:52.000921",
     "status": "completed"
    },
    "tags": []
   },
   "outputs": [
    {
     "name": "stdout",
     "output_type": "stream",
     "text": [
      "nvcc: NVIDIA (R) Cuda compiler driver\r\n",
      "Copyright (c) 2005-2020 NVIDIA Corporation\r\n",
      "Built on Wed_Jul_22_19:09:09_PDT_2020\r\n",
      "Cuda compilation tools, release 11.0, V11.0.221\r\n",
      "Build cuda_11.0_bu.TC445_37.28845127_0\r\n",
      "gcc (Ubuntu 9.4.0-1ubuntu1~20.04.1) 9.4.0\r\n",
      "Copyright (C) 2019 Free Software Foundation, Inc.\r\n",
      "This is free software; see the source for copying conditions.  There is NO\r\n",
      "warranty; not even for MERCHANTABILITY or FITNESS FOR A PARTICULAR PURPOSE.\r\n",
      "\r\n"
     ]
    }
   ],
   "source": [
    "# Check nvcc version\n",
    "!nvcc -V\n",
    "# Check GCC version\n",
    "!gcc --version"
   ]
  },
  {
   "cell_type": "code",
   "execution_count": 14,
   "id": "e1257fdc",
   "metadata": {
    "execution": {
     "iopub.execute_input": "2022-06-24T20:51:53.399518Z",
     "iopub.status.busy": "2022-06-24T20:51:53.399198Z",
     "iopub.status.idle": "2022-06-24T20:52:13.915391Z",
     "shell.execute_reply": "2022-06-24T20:52:13.914268Z"
    },
    "papermill": {
     "duration": 20.53338,
     "end_time": "2022-06-24T20:52:13.917799",
     "exception": false,
     "start_time": "2022-06-24T20:51:53.384419",
     "status": "completed"
    },
    "tags": []
   },
   "outputs": [
    {
     "name": "stdout",
     "output_type": "stream",
     "text": [
      "Requirement already satisfied: pip in /opt/conda/lib/python3.7/site-packages (22.1.1)\r\n",
      "Collecting pip\r\n",
      "  Downloading pip-22.1.2-py3-none-any.whl (2.1 MB)\r\n",
      "\u001b[2K     \u001b[90m━━━━━━━━━━━━━━━━━━━━━━━━━━━━━━━━━━━━━━━━\u001b[0m \u001b[32m2.1/2.1 MB\u001b[0m \u001b[31m6.3 MB/s\u001b[0m eta \u001b[36m0:00:00\u001b[0m\r\n",
      "\u001b[?25hInstalling collected packages: pip\r\n",
      "  Attempting uninstall: pip\r\n",
      "    Found existing installation: pip 22.1.1\r\n",
      "    Uninstalling pip-22.1.1:\r\n",
      "      Successfully uninstalled pip-22.1.1\r\n",
      "Successfully installed pip-22.1.2\r\n",
      "\u001b[33mWARNING: Running pip as the 'root' user can result in broken permissions and conflicting behaviour with the system package manager. It is recommended to use a virtual environment instead: https://pip.pypa.io/warnings/venv\u001b[0m\u001b[33m\r\n",
      "\u001b[0m"
     ]
    }
   ],
   "source": [
    "!/opt/conda/bin/python3.7 -m pip install --upgrade pip"
   ]
  },
  {
   "cell_type": "code",
   "execution_count": 15,
   "id": "068505af",
   "metadata": {
    "execution": {
     "iopub.execute_input": "2022-06-24T20:52:13.949184Z",
     "iopub.status.busy": "2022-06-24T20:52:13.948874Z",
     "iopub.status.idle": "2022-06-24T20:55:14.756716Z",
     "shell.execute_reply": "2022-06-24T20:55:14.755387Z"
    },
    "papermill": {
     "duration": 180.826482,
     "end_time": "2022-06-24T20:55:14.759223",
     "exception": false,
     "start_time": "2022-06-24T20:52:13.932741",
     "status": "completed"
    },
    "tags": []
   },
   "outputs": [
    {
     "name": "stdout",
     "output_type": "stream",
     "text": [
      "Looking in links: https://download.pytorch.org/whl/cu113/torch_stable.html\r\n",
      "Collecting torch==1.10.0+cu113\r\n",
      "  Downloading https://download.pytorch.org/whl/cu113/torch-1.10.0%2Bcu113-cp37-cp37m-linux_x86_64.whl (1821.5 MB)\r\n",
      "\u001b[2K     \u001b[90m━━━━━━━━━━━━━━━━━━━━━━━━━━━━━━━━━━━━━━━━\u001b[0m \u001b[32m1.8/1.8 GB\u001b[0m \u001b[31m733.3 kB/s\u001b[0m eta \u001b[36m0:00:00\u001b[0m\r\n",
      "\u001b[?25hCollecting torchvision==0.11.1+cu113\r\n",
      "  Downloading https://download.pytorch.org/whl/cu113/torchvision-0.11.1%2Bcu113-cp37-cp37m-linux_x86_64.whl (24.6 MB)\r\n",
      "\u001b[2K     \u001b[90m━━━━━━━━━━━━━━━━━━━━━━━━━━━━━━━━━━━━━━━━\u001b[0m \u001b[32m24.6/24.6 MB\u001b[0m \u001b[31m17.1 MB/s\u001b[0m eta \u001b[36m0:00:00\u001b[0m\r\n",
      "\u001b[?25hCollecting torchaudio===0.10.0+cu113\r\n",
      "  Downloading https://download.pytorch.org/whl/cu113/torchaudio-0.10.0%2Bcu113-cp37-cp37m-linux_x86_64.whl (2.9 MB)\r\n",
      "\u001b[2K     \u001b[90m━━━━━━━━━━━━━━━━━━━━━━━━━━━━━━━━━━━━━━━━\u001b[0m \u001b[32m2.9/2.9 MB\u001b[0m \u001b[31m16.9 MB/s\u001b[0m eta \u001b[36m0:00:00\u001b[0m\r\n",
      "\u001b[?25hRequirement already satisfied: typing-extensions in /opt/conda/lib/python3.7/site-packages (from torch==1.10.0+cu113) (4.1.1)\r\n",
      "Requirement already satisfied: pillow!=8.3.0,>=5.3.0 in /opt/conda/lib/python3.7/site-packages (from torchvision==0.11.1+cu113) (9.1.1)\r\n",
      "Requirement already satisfied: numpy in /opt/conda/lib/python3.7/site-packages (from torchvision==0.11.1+cu113) (1.21.6)\r\n",
      "Installing collected packages: torch, torchvision, torchaudio\r\n",
      "  Attempting uninstall: torch\r\n",
      "    Found existing installation: torch 1.11.0\r\n",
      "    Uninstalling torch-1.11.0:\r\n",
      "      Successfully uninstalled torch-1.11.0\r\n",
      "  Attempting uninstall: torchvision\r\n",
      "    Found existing installation: torchvision 0.12.0\r\n",
      "    Uninstalling torchvision-0.12.0:\r\n",
      "      Successfully uninstalled torchvision-0.12.0\r\n",
      "  Attempting uninstall: torchaudio\r\n",
      "    Found existing installation: torchaudio 0.11.0\r\n",
      "    Uninstalling torchaudio-0.11.0:\r\n",
      "      Successfully uninstalled torchaudio-0.11.0\r\n",
      "Successfully installed torch-1.10.0+cu113 torchaudio-0.10.0+cu113 torchvision-0.11.1+cu113\r\n",
      "\u001b[33mWARNING: Running pip as the 'root' user can result in broken permissions and conflicting behaviour with the system package manager. It is recommended to use a virtual environment instead: https://pip.pypa.io/warnings/venv\u001b[0m\u001b[33m\r\n",
      "\u001b[0m"
     ]
    }
   ],
   "source": [
    "!pip3 install torch==1.10.0+cu113 torchvision==0.11.1+cu113 torchaudio===0.10.0+cu113 -f https://download.pytorch.org/whl/cu113/torch_stable.html"
   ]
  },
  {
   "cell_type": "code",
   "execution_count": 16,
   "id": "e04cd05c",
   "metadata": {
    "execution": {
     "iopub.execute_input": "2022-06-24T20:55:15.006719Z",
     "iopub.status.busy": "2022-06-24T20:55:15.005531Z",
     "iopub.status.idle": "2022-06-24T20:55:25.086654Z",
     "shell.execute_reply": "2022-06-24T20:55:25.085506Z"
    },
    "papermill": {
     "duration": 10.207424,
     "end_time": "2022-06-24T20:55:25.089157",
     "exception": false,
     "start_time": "2022-06-24T20:55:14.881733",
     "status": "completed"
    },
    "tags": []
   },
   "outputs": [
    {
     "name": "stdout",
     "output_type": "stream",
     "text": [
      "Name: torch\r\n",
      "Version: 1.10.0+cu113\r\n",
      "Summary: Tensors and Dynamic neural networks in Python with strong GPU acceleration\r\n",
      "Home-page: https://pytorch.org/\r\n",
      "Author: PyTorch Team\r\n",
      "Author-email: packages@pytorch.org\r\n",
      "License: BSD-3\r\n",
      "Location: /opt/conda/lib/python3.7/site-packages\r\n",
      "Requires: typing-extensions\r\n",
      "Required-by: accelerate, allennlp, catalyst, easyocr, fairscale, fastai, kornia, pytorch-ignite, pytorch-lightning, torchaudio, torchmetrics, torchtext, torchvision\r\n"
     ]
    }
   ],
   "source": [
    "!pip show torch"
   ]
  },
  {
   "cell_type": "code",
   "execution_count": 17,
   "id": "36c54691",
   "metadata": {
    "execution": {
     "iopub.execute_input": "2022-06-24T20:55:25.331372Z",
     "iopub.status.busy": "2022-06-24T20:55:25.330989Z",
     "iopub.status.idle": "2022-06-24T20:55:44.594515Z",
     "shell.execute_reply": "2022-06-24T20:55:44.593429Z"
    },
    "papermill": {
     "duration": 19.387706,
     "end_time": "2022-06-24T20:55:44.596975",
     "exception": false,
     "start_time": "2022-06-24T20:55:25.209269",
     "status": "completed"
    },
    "tags": []
   },
   "outputs": [
    {
     "name": "stdout",
     "output_type": "stream",
     "text": [
      "Looking in links: https://download.openmmlab.com/mmcv/dist/cu111/torch1.10.0/index.html\r\n",
      "Collecting mmcv-full\r\n",
      "  Downloading https://download.openmmlab.com/mmcv/dist/cu111/torch1.10.0/mmcv_full-1.5.3-cp37-cp37m-manylinux1_x86_64.whl (47.1 MB)\r\n",
      "\u001b[2K     \u001b[90m━━━━━━━━━━━━━━━━━━━━━━━━━━━━━━━━━━━━━━━━\u001b[0m \u001b[32m47.1/47.1 MB\u001b[0m \u001b[31m7.3 MB/s\u001b[0m eta \u001b[36m0:00:00\u001b[0m\r\n",
      "\u001b[?25hRequirement already satisfied: yapf in /opt/conda/lib/python3.7/site-packages (from mmcv-full) (0.32.0)\r\n",
      "Requirement already satisfied: numpy in /opt/conda/lib/python3.7/site-packages (from mmcv-full) (1.21.6)\r\n",
      "Requirement already satisfied: Pillow in /opt/conda/lib/python3.7/site-packages (from mmcv-full) (9.1.1)\r\n",
      "Collecting addict\r\n",
      "  Downloading addict-2.4.0-py3-none-any.whl (3.8 kB)\r\n",
      "Requirement already satisfied: opencv-python>=3 in /opt/conda/lib/python3.7/site-packages (from mmcv-full) (4.5.4.60)\r\n",
      "Requirement already satisfied: pyyaml in /opt/conda/lib/python3.7/site-packages (from mmcv-full) (6.0)\r\n",
      "Requirement already satisfied: packaging in /opt/conda/lib/python3.7/site-packages (from mmcv-full) (21.3)\r\n",
      "Requirement already satisfied: pyparsing!=3.0.5,>=2.0.2 in /opt/conda/lib/python3.7/site-packages (from packaging->mmcv-full) (3.0.9)\r\n",
      "Installing collected packages: addict, mmcv-full\r\n",
      "Successfully installed addict-2.4.0 mmcv-full-1.5.3\r\n",
      "\u001b[33mWARNING: Running pip as the 'root' user can result in broken permissions and conflicting behaviour with the system package manager. It is recommended to use a virtual environment instead: https://pip.pypa.io/warnings/venv\u001b[0m\u001b[33m\r\n",
      "\u001b[0m"
     ]
    }
   ],
   "source": [
    "# Install mmcv-full thus we could use CUDA operators\n",
    "!pip install mmcv-full -f https://download.openmmlab.com/mmcv/dist/cu111/torch1.10.0/index.html"
   ]
  },
  {
   "cell_type": "code",
   "execution_count": 18,
   "id": "e3abb30f",
   "metadata": {
    "execution": {
     "iopub.execute_input": "2022-06-24T20:55:44.855397Z",
     "iopub.status.busy": "2022-06-24T20:55:44.854683Z",
     "iopub.status.idle": "2022-06-24T20:56:26.701903Z",
     "shell.execute_reply": "2022-06-24T20:56:26.700568Z"
    },
    "papermill": {
     "duration": 41.97914,
     "end_time": "2022-06-24T20:56:26.704841",
     "exception": false,
     "start_time": "2022-06-24T20:55:44.725701",
     "status": "completed"
    },
    "tags": []
   },
   "outputs": [
    {
     "name": "stdout",
     "output_type": "stream",
     "text": [
      "Collecting mmdet\r\n",
      "  Downloading mmdet-2.25.0-py3-none-any.whl (1.4 MB)\r\n",
      "\u001b[2K     \u001b[90m━━━━━━━━━━━━━━━━━━━━━━━━━━━━━━━━━━━━━━━━\u001b[0m \u001b[32m1.4/1.4 MB\u001b[0m \u001b[31m4.5 MB/s\u001b[0m eta \u001b[36m0:00:00\u001b[0m\r\n",
      "\u001b[?25hRequirement already satisfied: numpy in /opt/conda/lib/python3.7/site-packages (from mmdet) (1.21.6)\r\n",
      "Collecting pycocotools\r\n",
      "  Downloading pycocotools-2.0.4.tar.gz (106 kB)\r\n",
      "\u001b[2K     \u001b[90m━━━━━━━━━━━━━━━━━━━━━━━━━━━━━━━━━━━━━━━\u001b[0m \u001b[32m106.6/106.6 kB\u001b[0m \u001b[31m9.3 MB/s\u001b[0m eta \u001b[36m0:00:00\u001b[0m\r\n",
      "\u001b[?25h  Installing build dependencies ... \u001b[?25l-\b \b\\\b \b|\b \b/\b \b-\b \b\\\b \b|\b \b/\b \b-\b \bdone\r\n",
      "\u001b[?25h  Getting requirements to build wheel ... \u001b[?25l-\b \b\\\b \b|\b \b/\b \bdone\r\n",
      "\u001b[?25h  Preparing metadata (pyproject.toml) ... \u001b[?25l-\b \b\\\b \b|\b \b/\b \bdone\r\n",
      "\u001b[?25hCollecting terminaltables\r\n",
      "  Downloading terminaltables-3.1.10-py2.py3-none-any.whl (15 kB)\r\n",
      "Requirement already satisfied: six in /opt/conda/lib/python3.7/site-packages (from mmdet) (1.16.0)\r\n",
      "Requirement already satisfied: matplotlib in /opt/conda/lib/python3.7/site-packages (from mmdet) (3.5.2)\r\n",
      "Requirement already satisfied: packaging>=20.0 in /opt/conda/lib/python3.7/site-packages (from matplotlib->mmdet) (21.3)\r\n",
      "Requirement already satisfied: cycler>=0.10 in /opt/conda/lib/python3.7/site-packages (from matplotlib->mmdet) (0.11.0)\r\n",
      "Requirement already satisfied: pyparsing>=2.2.1 in /opt/conda/lib/python3.7/site-packages (from matplotlib->mmdet) (3.0.9)\r\n",
      "Requirement already satisfied: pillow>=6.2.0 in /opt/conda/lib/python3.7/site-packages (from matplotlib->mmdet) (9.1.1)\r\n",
      "Requirement already satisfied: python-dateutil>=2.7 in /opt/conda/lib/python3.7/site-packages (from matplotlib->mmdet) (2.8.2)\r\n",
      "Requirement already satisfied: kiwisolver>=1.0.1 in /opt/conda/lib/python3.7/site-packages (from matplotlib->mmdet) (1.4.2)\r\n",
      "Requirement already satisfied: fonttools>=4.22.0 in /opt/conda/lib/python3.7/site-packages (from matplotlib->mmdet) (4.33.3)\r\n",
      "Requirement already satisfied: typing-extensions in /opt/conda/lib/python3.7/site-packages (from kiwisolver>=1.0.1->matplotlib->mmdet) (4.1.1)\r\n",
      "Building wheels for collected packages: pycocotools\r\n",
      "  Building wheel for pycocotools (pyproject.toml) ... \u001b[?25l-\b \b\\\b \b|\b \b/\b \b-\b \b\\\b \b|\b \b/\b \b-\b \b\\\b \b|\b \bdone\r\n",
      "\u001b[?25h  Created wheel for pycocotools: filename=pycocotools-2.0.4-cp37-cp37m-linux_x86_64.whl size=370081 sha256=f36ef1908e81e95d37a60bc7481f5c4d40142b2a9ffca92be62d03d98b34c76d\r\n",
      "  Stored in directory: /root/.cache/pip/wheels/a3/5f/fa/f011e578cc76e1fc5be8dce30b3eb9fd00f337e744b3bba59b\r\n",
      "Successfully built pycocotools\r\n",
      "Installing collected packages: terminaltables, pycocotools, mmdet\r\n",
      "Successfully installed mmdet-2.25.0 pycocotools-2.0.4 terminaltables-3.1.10\r\n",
      "\u001b[33mWARNING: Running pip as the 'root' user can result in broken permissions and conflicting behaviour with the system package manager. It is recommended to use a virtual environment instead: https://pip.pypa.io/warnings/venv\u001b[0m\u001b[33m\r\n",
      "\u001b[0m"
     ]
    }
   ],
   "source": [
    "# Install mmdetection\n",
    "!pip install mmdet"
   ]
  },
  {
   "cell_type": "code",
   "execution_count": 19,
   "id": "d0344c36",
   "metadata": {
    "execution": {
     "iopub.execute_input": "2022-06-24T20:56:27.063314Z",
     "iopub.status.busy": "2022-06-24T20:56:27.062954Z",
     "iopub.status.idle": "2022-06-24T20:56:48.415427Z",
     "shell.execute_reply": "2022-06-24T20:56:48.414117Z"
    },
    "papermill": {
     "duration": 21.561891,
     "end_time": "2022-06-24T20:56:48.417924",
     "exception": false,
     "start_time": "2022-06-24T20:56:26.856033",
     "status": "completed"
    },
    "tags": []
   },
   "outputs": [
    {
     "name": "stdout",
     "output_type": "stream",
     "text": [
      "Cloning into 'mmdetection'...\r\n",
      "remote: Enumerating objects: 24969, done.\u001b[K\r\n",
      "remote: Counting objects: 100% (10/10), done.\u001b[K\r\n",
      "remote: Compressing objects: 100% (9/9), done.\u001b[K\r\n",
      "remote: Total 24969 (delta 3), reused 6 (delta 1), pack-reused 24959\u001b[K\r\n",
      "Receiving objects: 100% (24969/24969), 37.76 MiB | 27.39 MiB/s, done.\r\n",
      "Resolving deltas: 100% (17503/17503), done.\r\n",
      "/kaggle/working/mmdetection\n",
      "Obtaining file:///kaggle/working/mmdetection\r\n",
      "  Preparing metadata (setup.py) ... \u001b[?25l-\b \b\\\b \bdone\r\n",
      "\u001b[?25hRequirement already satisfied: matplotlib in /opt/conda/lib/python3.7/site-packages (from mmdet==2.25.0) (3.5.2)\r\n",
      "Requirement already satisfied: numpy in /opt/conda/lib/python3.7/site-packages (from mmdet==2.25.0) (1.21.6)\r\n",
      "Requirement already satisfied: pycocotools in /opt/conda/lib/python3.7/site-packages (from mmdet==2.25.0) (2.0.4)\r\n",
      "Requirement already satisfied: six in /opt/conda/lib/python3.7/site-packages (from mmdet==2.25.0) (1.16.0)\r\n",
      "Requirement already satisfied: terminaltables in /opt/conda/lib/python3.7/site-packages (from mmdet==2.25.0) (3.1.10)\r\n",
      "Requirement already satisfied: pillow>=6.2.0 in /opt/conda/lib/python3.7/site-packages (from matplotlib->mmdet==2.25.0) (9.1.1)\r\n",
      "Requirement already satisfied: python-dateutil>=2.7 in /opt/conda/lib/python3.7/site-packages (from matplotlib->mmdet==2.25.0) (2.8.2)\r\n",
      "Requirement already satisfied: pyparsing>=2.2.1 in /opt/conda/lib/python3.7/site-packages (from matplotlib->mmdet==2.25.0) (3.0.9)\r\n",
      "Requirement already satisfied: fonttools>=4.22.0 in /opt/conda/lib/python3.7/site-packages (from matplotlib->mmdet==2.25.0) (4.33.3)\r\n",
      "Requirement already satisfied: cycler>=0.10 in /opt/conda/lib/python3.7/site-packages (from matplotlib->mmdet==2.25.0) (0.11.0)\r\n",
      "Requirement already satisfied: packaging>=20.0 in /opt/conda/lib/python3.7/site-packages (from matplotlib->mmdet==2.25.0) (21.3)\r\n",
      "Requirement already satisfied: kiwisolver>=1.0.1 in /opt/conda/lib/python3.7/site-packages (from matplotlib->mmdet==2.25.0) (1.4.2)\r\n",
      "Requirement already satisfied: typing-extensions in /opt/conda/lib/python3.7/site-packages (from kiwisolver>=1.0.1->matplotlib->mmdet==2.25.0) (4.1.1)\r\n",
      "Installing collected packages: mmdet\r\n",
      "  Attempting uninstall: mmdet\r\n",
      "    Found existing installation: mmdet 2.25.0\r\n",
      "    Uninstalling mmdet-2.25.0:\r\n",
      "      Successfully uninstalled mmdet-2.25.0\r\n",
      "  Running setup.py develop for mmdet\r\n",
      "Successfully installed mmdet-2.25.0\r\n",
      "\u001b[33mWARNING: Running pip as the 'root' user can result in broken permissions and conflicting behaviour with the system package manager. It is recommended to use a virtual environment instead: https://pip.pypa.io/warnings/venv\u001b[0m\u001b[33m\r\n",
      "\u001b[0m"
     ]
    }
   ],
   "source": [
    "!rm -rf mmdetection\n",
    "!git clone https://github.com/open-mmlab/mmdetection.git\n",
    "%cd mmdetection\n",
    "\n",
    "!pip install -e ."
   ]
  },
  {
   "cell_type": "markdown",
   "id": "1489e6d4",
   "metadata": {
    "papermill": {
     "duration": 0.137398,
     "end_time": "2022-06-24T20:56:48.691053",
     "exception": false,
     "start_time": "2022-06-24T20:56:48.553655",
     "status": "completed"
    },
    "tags": []
   },
   "source": [
    "## Check the installation"
   ]
  },
  {
   "cell_type": "code",
   "execution_count": 20,
   "id": "144e8e79",
   "metadata": {
    "execution": {
     "iopub.execute_input": "2022-06-24T20:56:48.960328Z",
     "iopub.status.busy": "2022-06-24T20:56:48.959970Z",
     "iopub.status.idle": "2022-06-24T20:56:52.117189Z",
     "shell.execute_reply": "2022-06-24T20:56:52.115969Z"
    },
    "papermill": {
     "duration": 3.294039,
     "end_time": "2022-06-24T20:56:52.119727",
     "exception": false,
     "start_time": "2022-06-24T20:56:48.825688",
     "status": "completed"
    },
    "tags": []
   },
   "outputs": [
    {
     "name": "stdout",
     "output_type": "stream",
     "text": [
      "1.10.0+cu113 True\n",
      "2.25.0\n",
      "1.5.3\n",
      "11.1\n",
      "GCC 7.3\n",
      "CITATION.cff  README_zh-CN.md  docs\t\tpytest.ini\t  setup.cfg\r\n",
      "LICENSE       configs\t       mmdet\t\trequirements\t  setup.py\r\n",
      "MANIFEST.in   demo\t       mmdet.egg-info\trequirements.txt  tests\r\n",
      "README.md     docker\t       model-index.yml\tresources\t  tools\r\n"
     ]
    }
   ],
   "source": [
    "# Check Pytorch installation\n",
    "import torch, torchvision\n",
    "print(torch.__version__, torch.cuda.is_available())\n",
    "\n",
    "# Check MMDetection installation\n",
    "import mmdet\n",
    "print(mmdet.__version__)\n",
    "\n",
    "# Check mmcv installation\n",
    "import mmcv\n",
    "from mmcv.ops import get_compiling_cuda_version, get_compiler_version\n",
    "print(mmcv.__version__)\n",
    "print(get_compiling_cuda_version())\n",
    "print(get_compiler_version())\n",
    "\n",
    "!ls"
   ]
  },
  {
   "cell_type": "markdown",
   "id": "ef29e3fc",
   "metadata": {
    "papermill": {
     "duration": 0.132458,
     "end_time": "2022-06-24T20:56:52.385596",
     "exception": false,
     "start_time": "2022-06-24T20:56:52.253138",
     "status": "completed"
    },
    "tags": []
   },
   "source": [
    "## Download model"
   ]
  },
  {
   "cell_type": "code",
   "execution_count": 21,
   "id": "79d0986c",
   "metadata": {
    "execution": {
     "iopub.execute_input": "2022-06-24T20:56:52.668817Z",
     "iopub.status.busy": "2022-06-24T20:56:52.668030Z",
     "iopub.status.idle": "2022-06-24T20:57:25.916299Z",
     "shell.execute_reply": "2022-06-24T20:57:25.914818Z"
    },
    "papermill": {
     "duration": 33.399344,
     "end_time": "2022-06-24T20:57:25.918901",
     "exception": false,
     "start_time": "2022-06-24T20:56:52.519557",
     "status": "completed"
    },
    "tags": []
   },
   "outputs": [
    {
     "name": "stdout",
     "output_type": "stream",
     "text": [
      "--2022-06-24 20:56:53--  https://download.openmmlab.com/mmdetection/v2.0/cascade_rcnn/cascade_rcnn_r50_fpn_1x_coco/cascade_rcnn_r50_fpn_1x_coco_20200316-3dc56deb.pth\r\n",
      "Resolving download.openmmlab.com (download.openmmlab.com)... 47.252.96.28\r\n",
      "Connecting to download.openmmlab.com (download.openmmlab.com)|47.252.96.28|:443... connected.\r\n",
      "HTTP request sent, awaiting response... 200 OK\r\n",
      "Length: 277858723 (265M) [application/octet-stream]\r\n",
      "Saving to: ‘checkpoints/detectors_cascade_rcnn_r50_1x_coco-32a10ba0.pth’\r\n",
      "\r\n",
      "checkpoints/detecto 100%[===================>] 264.99M  7.76MB/s    in 31s     \r\n",
      "\r\n",
      "2022-06-24 20:57:25 (8.58 MB/s) - ‘checkpoints/detectors_cascade_rcnn_r50_1x_coco-32a10ba0.pth’ saved [277858723/277858723]\r\n",
      "\r\n"
     ]
    }
   ],
   "source": [
    "!mkdir checkpoints\n",
    "!wget -c https://download.openmmlab.com/mmdetection/v2.0/cascade_rcnn/cascade_rcnn_r50_fpn_1x_coco/cascade_rcnn_r50_fpn_1x_coco_20200316-3dc56deb.pth \\\n",
    "    -O checkpoints/detectors_cascade_rcnn_r50_1x_coco-32a10ba0.pth"
   ]
  },
  {
   "cell_type": "markdown",
   "id": "30bc37ec",
   "metadata": {
    "papermill": {
     "duration": 0.139988,
     "end_time": "2022-06-24T20:57:28.008401",
     "exception": false,
     "start_time": "2022-06-24T20:57:27.868413",
     "status": "completed"
    },
    "tags": []
   },
   "source": [
    "## Custom TeethDataset for training"
   ]
  },
  {
   "cell_type": "code",
   "execution_count": 27,
   "id": "fe848d97",
   "metadata": {
    "execution": {
     "iopub.execute_input": "2022-06-24T20:57:28.299149Z",
     "iopub.status.busy": "2022-06-24T20:57:28.298592Z",
     "iopub.status.idle": "2022-06-24T20:57:31.411909Z",
     "shell.execute_reply": "2022-06-24T20:57:31.410951Z"
    },
    "papermill": {
     "duration": 3.259669,
     "end_time": "2022-06-24T20:57:31.414390",
     "exception": false,
     "start_time": "2022-06-24T20:57:28.154721",
     "status": "completed"
    },
    "tags": []
   },
   "outputs": [],
   "source": [
    "import copy\n",
    "import os.path as osp\n",
    "\n",
    "import mmcv\n",
    "import numpy as np\n",
    "\n",
    "from mmdet.datasets.builder import DATASETS\n",
    "from mmdet.datasets.custom import CustomDataset\n",
    "\n",
    "@DATASETS.register_module()\n",
    "class TeethDataset(CustomDataset):\n",
    "\n",
    "    CLASSES = ['teeth', 'caries']\n",
    "\n",
    "    def load_annotations(self, ann_file):\n",
    "        cat2label = {k: i for i, k in enumerate(self.CLASSES)}\n",
    "        # load image list from file\n",
    "        anno = pd.read_csv(ann_file)\n",
    "        image_list = anno.file_name.unique()\n",
    "    \n",
    "        data_infos = []\n",
    "        for image_id in image_list:\n",
    "            filename = f'{self.img_prefix}/{image_id}'\n",
    "            image = mmcv.imread(filename)\n",
    "            height, width = image.shape[:2]\n",
    "    \n",
    "            data_info = dict(filename=f'{image_id}', width=width, height=height)\n",
    "    \n",
    "            \n",
    "            image_anno = anno[anno.file_name == image_id]\n",
    "            bbox_names = anno['class']\n",
    "            bboxes = [[line.x_from, line.y_from, line.x_from+line.width, line.y_from+line.height] for line in image_anno.itertuples()]\n",
    "    \n",
    "            gt_bboxes = []\n",
    "            gt_labels = []\n",
    "    \n",
    "            for bbox_name, bbox in zip(bbox_names, bboxes):\n",
    "                gt_labels.append(cat2label[bbox_name])\n",
    "                gt_bboxes.append(bbox)\n",
    "\n",
    "            data_anno = dict(\n",
    "                bboxes=np.array(gt_bboxes, dtype=np.float32).reshape(-1, 4),\n",
    "                labels=np.array(gt_labels, dtype=np.long))\n",
    "\n",
    "            data_info.update(ann=data_anno)\n",
    "            data_infos.append(data_info)\n",
    "\n",
    "        return data_infos"
   ]
  },
  {
   "cell_type": "markdown",
   "id": "3a3e906b",
   "metadata": {
    "papermill": {
     "duration": 0.617446,
     "end_time": "2022-06-24T20:57:32.175201",
     "exception": false,
     "start_time": "2022-06-24T20:57:31.557755",
     "status": "completed"
    },
    "tags": []
   },
   "source": [
    "## Create the training config"
   ]
  },
  {
   "cell_type": "code",
   "execution_count": 28,
   "id": "5699927d",
   "metadata": {
    "execution": {
     "iopub.execute_input": "2022-06-24T20:57:32.461735Z",
     "iopub.status.busy": "2022-06-24T20:57:32.461354Z",
     "iopub.status.idle": "2022-06-24T20:57:32.482952Z",
     "shell.execute_reply": "2022-06-24T20:57:32.482068Z"
    },
    "papermill": {
     "duration": 0.167552,
     "end_time": "2022-06-24T20:57:32.485116",
     "exception": false,
     "start_time": "2022-06-24T20:57:32.317564",
     "status": "completed"
    },
    "tags": []
   },
   "outputs": [],
   "source": [
    "from mmcv import Config\n",
    "cfg = Config.fromfile('./configs/cascade_rcnn/cascade_rcnn_r50_fpn_1x_coco.py')"
   ]
  },
  {
   "cell_type": "code",
   "execution_count": 29,
   "id": "74fe7590",
   "metadata": {
    "execution": {
     "iopub.execute_input": "2022-06-24T20:57:32.772072Z",
     "iopub.status.busy": "2022-06-24T20:57:32.771705Z",
     "iopub.status.idle": "2022-06-24T20:57:32.790678Z",
     "shell.execute_reply": "2022-06-24T20:57:32.789734Z"
    },
    "papermill": {
     "duration": 0.165252,
     "end_time": "2022-06-24T20:57:32.792806",
     "exception": false,
     "start_time": "2022-06-24T20:57:32.627554",
     "status": "completed"
    },
    "tags": []
   },
   "outputs": [],
   "source": [
    "from mmdet.apis import set_random_seed\n",
    "\n",
    "# Modify dataset type and path\n",
    "cfg.dataset_type = 'TeethDataset'\n",
    "cfg.data_root = '/kaggle/working/'\n",
    "\n",
    "cfg.data.samples_per_gpu = 4\n",
    "cfg.data.workers_per_gpu = 6\n",
    "cfg.imgs_per_gpu = 4\n",
    "cfg.batch_size = 4\n",
    "\n",
    "cfg.data.test.type = 'TeethDataset'\n",
    "cfg.data.test.data_root = '/kaggle/working/'\n",
    "cfg.data.test.ann_file = 'test.csv'\n",
    "cfg.data.test.img_prefix = 'test'\n",
    "\n",
    "cfg.data.train.type = 'TeethDataset'\n",
    "cfg.data.train.data_root = '/kaggle/working/'\n",
    "cfg.data.train.ann_file = 'train.csv'\n",
    "cfg.data.train.img_prefix = 'train'\n",
    "\n",
    "cfg.data.val.type = 'TeethDataset'\n",
    "cfg.data.val.data_root = '/kaggle/working/'\n",
    "cfg.data.val.ann_file = 'val.csv'\n",
    "cfg.data.val.img_prefix = 'val'\n",
    "\n",
    "for i in cfg.model.roi_head.bbox_head:\n",
    "    i['num_classes'] = 2\n",
    "cfg.load_from = 'checkpoints/detectors_cascade_rcnn_r50_1x_coco-32a10ba0.pth'\n",
    "\n",
    "cfg.work_dir = '/kaggle/working/model'\n",
    "\n",
    "cfg.optimizer.lr = 0.001\n",
    "cfg.lr_config.warmup = None\n",
    "# cfg.lr_config.min_lr = 3e-4\n",
    "cfg.log_config.interval = 10\n",
    "\n",
    "# Change the evaluation metric since we use customized dataset.\n",
    "cfg.evaluation.metric = 'mAP'\n",
    "# We can set the evaluation interval to reduce the evaluation times\n",
    "cfg.evaluation.interval = 1\n",
    "# We can set the checkpoint saving interval to reduce the storage cost\n",
    "cfg.checkpoint_config.interval = 1\n",
    "\n",
    "# Set seed thus the results are more reproducible\n",
    "cfg.seed = 0\n",
    "set_random_seed(0, deterministic=False)\n",
    "cfg.gpu_ids = [0]\n",
    "\n",
    "cfg.device = \"cuda\"\n",
    "\n",
    "cfg.runner.max_epochs = 10"
   ]
  },
  {
   "cell_type": "markdown",
   "id": "44654d0f",
   "metadata": {
    "papermill": {
     "duration": 0.143138,
     "end_time": "2022-06-24T20:57:33.078076",
     "exception": false,
     "start_time": "2022-06-24T20:57:32.934938",
     "status": "completed"
    },
    "tags": []
   },
   "source": [
    "## Train datector"
   ]
  },
  {
   "cell_type": "code",
   "execution_count": 30,
   "id": "a9a1a2a8",
   "metadata": {
    "execution": {
     "iopub.execute_input": "2022-06-24T20:57:33.409606Z",
     "iopub.status.busy": "2022-06-24T20:57:33.408636Z",
     "iopub.status.idle": "2022-06-24T21:10:57.173968Z",
     "shell.execute_reply": "2022-06-24T21:10:57.172798Z"
    },
    "papermill": {
     "duration": 803.911357,
     "end_time": "2022-06-24T21:10:57.176526",
     "exception": false,
     "start_time": "2022-06-24T20:57:33.265169",
     "status": "completed"
    },
    "tags": []
   },
   "outputs": [
    {
     "name": "stderr",
     "output_type": "stream",
     "text": [
      "/opt/conda/lib/python3.7/site-packages/ipykernel_launcher.py:43: DeprecationWarning: `np.long` is a deprecated alias for `np.compat.long`. To silence this warning, use `np.compat.long` by itself. In the likely event your code does not need to work on Python 2 you can use the builtin `int` for which `np.compat.long` is itself an alias. Doing this will not modify any behaviour and is safe. When replacing `np.long`, you may wish to use e.g. `np.int64` or `np.int32` to specify the precision. If you wish to review your current use, check the release note link for additional information.\n",
      "Deprecated in NumPy 1.20; for more details and guidance: https://numpy.org/devdocs/release/1.20.0-notes.html#deprecations\n",
      "/kaggle/working/mmdetection/mmdet/datasets/custom.py:180: UserWarning: CustomDataset does not support filtering empty gt images.\n",
      "  'CustomDataset does not support filtering empty gt images.')\n",
      "/opt/conda/lib/python3.7/site-packages/torch/utils/data/dataloader.py:481: UserWarning: This DataLoader will create 6 worker processes in total. Our suggested max number of worker in current system is 2, which is smaller than what this DataLoader is going to create. Please be aware that excessive worker creation might get DataLoader running slow or even freeze, lower the worker number to avoid potential slowness/freeze if necessary.\n",
      "  cpuset_checked))\n",
      "2022-06-24 20:57:38,679 - mmdet - INFO - Automatic scaling of learning rate (LR) has been disabled.\n",
      "2022-06-24 20:57:38,797 - mmdet - INFO - load checkpoint from local path: checkpoints/detectors_cascade_rcnn_r50_1x_coco-32a10ba0.pth\n",
      "2022-06-24 20:57:39,040 - mmdet - WARNING - The model and loaded state dict do not match exactly\n",
      "\n",
      "size mismatch for roi_head.bbox_head.0.fc_cls.weight: copying a param with shape torch.Size([81, 1024]) from checkpoint, the shape in current model is torch.Size([3, 1024]).\n",
      "size mismatch for roi_head.bbox_head.0.fc_cls.bias: copying a param with shape torch.Size([81]) from checkpoint, the shape in current model is torch.Size([3]).\n",
      "size mismatch for roi_head.bbox_head.1.fc_cls.weight: copying a param with shape torch.Size([81, 1024]) from checkpoint, the shape in current model is torch.Size([3, 1024]).\n",
      "size mismatch for roi_head.bbox_head.1.fc_cls.bias: copying a param with shape torch.Size([81]) from checkpoint, the shape in current model is torch.Size([3]).\n",
      "size mismatch for roi_head.bbox_head.2.fc_cls.weight: copying a param with shape torch.Size([81, 1024]) from checkpoint, the shape in current model is torch.Size([3, 1024]).\n",
      "size mismatch for roi_head.bbox_head.2.fc_cls.bias: copying a param with shape torch.Size([81]) from checkpoint, the shape in current model is torch.Size([3]).\n",
      "2022-06-24 20:57:39,051 - mmdet - INFO - Start running, host: root@00888556ce36, work_dir: /kaggle/working/model\n",
      "2022-06-24 20:57:39,052 - mmdet - INFO - Hooks will be executed in the following order:\n",
      "before_run:\n",
      "(VERY_HIGH   ) StepLrUpdaterHook                  \n",
      "(NORMAL      ) CheckpointHook                     \n",
      "(LOW         ) EvalHook                           \n",
      "(VERY_LOW    ) TextLoggerHook                     \n",
      " -------------------- \n",
      "before_train_epoch:\n",
      "(VERY_HIGH   ) StepLrUpdaterHook                  \n",
      "(NORMAL      ) NumClassCheckHook                  \n",
      "(LOW         ) IterTimerHook                      \n",
      "(LOW         ) EvalHook                           \n",
      "(VERY_LOW    ) TextLoggerHook                     \n",
      " -------------------- \n",
      "before_train_iter:\n",
      "(VERY_HIGH   ) StepLrUpdaterHook                  \n",
      "(LOW         ) IterTimerHook                      \n",
      "(LOW         ) EvalHook                           \n",
      " -------------------- \n",
      "after_train_iter:\n",
      "(ABOVE_NORMAL) OptimizerHook                      \n",
      "(NORMAL      ) CheckpointHook                     \n",
      "(LOW         ) IterTimerHook                      \n",
      "(LOW         ) EvalHook                           \n",
      "(VERY_LOW    ) TextLoggerHook                     \n",
      " -------------------- \n",
      "after_train_epoch:\n",
      "(NORMAL      ) CheckpointHook                     \n",
      "(LOW         ) EvalHook                           \n",
      "(VERY_LOW    ) TextLoggerHook                     \n",
      " -------------------- \n",
      "before_val_epoch:\n",
      "(NORMAL      ) NumClassCheckHook                  \n",
      "(LOW         ) IterTimerHook                      \n",
      "(VERY_LOW    ) TextLoggerHook                     \n",
      " -------------------- \n",
      "before_val_iter:\n",
      "(LOW         ) IterTimerHook                      \n",
      " -------------------- \n",
      "after_val_iter:\n",
      "(LOW         ) IterTimerHook                      \n",
      " -------------------- \n",
      "after_val_epoch:\n",
      "(VERY_LOW    ) TextLoggerHook                     \n",
      " -------------------- \n",
      "after_run:\n",
      "(VERY_LOW    ) TextLoggerHook                     \n",
      " -------------------- \n",
      "2022-06-24 20:57:39,053 - mmdet - INFO - workflow: [('train', 1)], max: 10 epochs\n",
      "2022-06-24 20:57:39,055 - mmdet - INFO - Checkpoints will be saved to /kaggle/working/model by HardDiskBackend.\n",
      "2022-06-24 20:57:49,368 - mmdet - INFO - Epoch [1][10/107]\tlr: 1.000e-03, eta: 0:18:03, time: 1.022, data_time: 0.322, memory: 4749, loss_rpn_cls: 0.3163, loss_rpn_bbox: 0.0429, s0.loss_cls: 0.6619, s0.acc: 73.0908, s0.loss_bbox: 0.2406, s1.loss_cls: 0.3770, s1.acc: 66.7435, s1.loss_bbox: 0.1769, s2.loss_cls: 0.1957, s2.acc: 65.0794, s2.loss_bbox: 0.0788, loss: 2.0901\n",
      "2022-06-24 20:57:55,954 - mmdet - INFO - Epoch [1][20/107]\tlr: 1.000e-03, eta: 0:14:42, time: 0.659, data_time: 0.022, memory: 4749, loss_rpn_cls: 0.0970, loss_rpn_bbox: 0.0314, s0.loss_cls: 0.3690, s0.acc: 84.0381, s0.loss_bbox: 0.2324, s1.loss_cls: 0.1913, s1.acc: 83.4176, s1.loss_bbox: 0.2085, s2.loss_cls: 0.1149, s2.acc: 86.3789, s2.loss_bbox: 0.1042, loss: 1.3487\n",
      "2022-06-24 20:58:02,541 - mmdet - INFO - Epoch [1][30/107]\tlr: 1.000e-03, eta: 0:13:31, time: 0.659, data_time: 0.022, memory: 4749, loss_rpn_cls: 0.0613, loss_rpn_bbox: 0.0264, s0.loss_cls: 0.3009, s0.acc: 87.8320, s0.loss_bbox: 0.2450, s1.loss_cls: 0.1633, s1.acc: 84.0964, s1.loss_bbox: 0.2319, s2.loss_cls: 0.1003, s2.acc: 81.6778, s2.loss_bbox: 0.1190, loss: 1.2482\n",
      "2022-06-24 20:58:09,085 - mmdet - INFO - Epoch [1][40/107]\tlr: 1.000e-03, eta: 0:12:50, time: 0.654, data_time: 0.022, memory: 4749, loss_rpn_cls: 0.0452, loss_rpn_bbox: 0.0279, s0.loss_cls: 0.2439, s0.acc: 89.5312, s0.loss_bbox: 0.2074, s1.loss_cls: 0.1397, s1.acc: 87.7245, s1.loss_bbox: 0.2387, s2.loss_cls: 0.0884, s2.acc: 82.8497, s2.loss_bbox: 0.1391, loss: 1.1304\n",
      "2022-06-24 20:58:15,657 - mmdet - INFO - Epoch [1][50/107]\tlr: 1.000e-03, eta: 0:12:24, time: 0.657, data_time: 0.023, memory: 4749, loss_rpn_cls: 0.0430, loss_rpn_bbox: 0.0277, s0.loss_cls: 0.2603, s0.acc: 87.9688, s0.loss_bbox: 0.2353, s1.loss_cls: 0.1379, s1.acc: 87.7858, s1.loss_bbox: 0.2248, s2.loss_cls: 0.0852, s2.acc: 83.2551, s2.loss_bbox: 0.1292, loss: 1.1434\n",
      "2022-06-24 20:58:22,067 - mmdet - INFO - Epoch [1][60/107]\tlr: 1.000e-03, eta: 0:12:02, time: 0.641, data_time: 0.021, memory: 4749, loss_rpn_cls: 0.0430, loss_rpn_bbox: 0.0273, s0.loss_cls: 0.2418, s0.acc: 89.0381, s0.loss_bbox: 0.2319, s1.loss_cls: 0.1277, s1.acc: 88.3847, s1.loss_bbox: 0.2164, s2.loss_cls: 0.0707, s2.acc: 87.4042, s2.loss_bbox: 0.1164, loss: 1.0751\n",
      "2022-06-24 20:58:28,461 - mmdet - INFO - Epoch [1][70/107]\tlr: 1.000e-03, eta: 0:11:44, time: 0.639, data_time: 0.022, memory: 4749, loss_rpn_cls: 0.0328, loss_rpn_bbox: 0.0292, s0.loss_cls: 0.2234, s0.acc: 90.3271, s0.loss_bbox: 0.2090, s1.loss_cls: 0.1166, s1.acc: 90.1720, s1.loss_bbox: 0.2153, s2.loss_cls: 0.0684, s2.acc: 88.7614, s2.loss_bbox: 0.1229, loss: 1.0176\n",
      "2022-06-24 20:58:34,894 - mmdet - INFO - Epoch [1][80/107]\tlr: 1.000e-03, eta: 0:11:29, time: 0.643, data_time: 0.024, memory: 4749, loss_rpn_cls: 0.0334, loss_rpn_bbox: 0.0245, s0.loss_cls: 0.2173, s0.acc: 90.9033, s0.loss_bbox: 0.2098, s1.loss_cls: 0.1145, s1.acc: 90.2139, s1.loss_bbox: 0.2288, s2.loss_cls: 0.0670, s2.acc: 88.3076, s2.loss_bbox: 0.1266, loss: 1.0218\n",
      "2022-06-24 20:58:41,489 - mmdet - INFO - Epoch [1][90/107]\tlr: 1.000e-03, eta: 0:11:18, time: 0.659, data_time: 0.026, memory: 4749, loss_rpn_cls: 0.0383, loss_rpn_bbox: 0.0352, s0.loss_cls: 0.2315, s0.acc: 89.9316, s0.loss_bbox: 0.2355, s1.loss_cls: 0.1225, s1.acc: 89.4413, s1.loss_bbox: 0.2565, s2.loss_cls: 0.0695, s2.acc: 87.1929, s2.loss_bbox: 0.1329, loss: 1.1220\n",
      "2022-06-24 20:58:48,048 - mmdet - INFO - Epoch [1][100/107]\tlr: 1.000e-03, eta: 0:11:08, time: 0.656, data_time: 0.024, memory: 4749, loss_rpn_cls: 0.0264, loss_rpn_bbox: 0.0275, s0.loss_cls: 0.2280, s0.acc: 90.3516, s0.loss_bbox: 0.2117, s1.loss_cls: 0.1134, s1.acc: 90.0508, s1.loss_bbox: 0.2337, s2.loss_cls: 0.0664, s2.acc: 88.2161, s2.loss_bbox: 0.1320, loss: 1.0389\n",
      "2022-06-24 20:58:52,661 - mmdet - INFO - Saving checkpoint at 1 epochs\n"
     ]
    },
    {
     "name": "stdout",
     "output_type": "stream",
     "text": [
      "[>>>>>>>>>>>>>>>>>>>>>>>>>>>>>>>>] 50/50, 10.4 task/s, elapsed: 5s, ETA:     0s\n",
      "---------------iou_thr: 0.5---------------\n"
     ]
    },
    {
     "name": "stderr",
     "output_type": "stream",
     "text": [
      "2022-06-24 20:58:59,355 - mmdet - INFO - \n",
      "+--------+-----+------+--------+-------+\n",
      "| class  | gts | dets | recall | ap    |\n",
      "+--------+-----+------+--------+-------+\n",
      "| teeth  | 388 | 1769 | 0.876  | 0.702 |\n",
      "| caries | 6   | 0    | 0.000  | 0.000 |\n",
      "+--------+-----+------+--------+-------+\n",
      "| mAP    |     |      |        | 0.351 |\n",
      "+--------+-----+------+--------+-------+\n",
      "2022-06-24 20:58:59,359 - mmdet - INFO - Epoch(val) [1][50]\tAP50: 0.3510, mAP: 0.3512\n",
      "2022-06-24 20:59:09,402 - mmdet - INFO - Epoch [2][10/107]\tlr: 1.000e-03, eta: 0:10:42, time: 0.995, data_time: 0.306, memory: 4749, loss_rpn_cls: 0.0267, loss_rpn_bbox: 0.0271, s0.loss_cls: 0.2105, s0.acc: 90.9766, s0.loss_bbox: 0.2004, s1.loss_cls: 0.1046, s1.acc: 91.3548, s1.loss_bbox: 0.2385, s2.loss_cls: 0.0644, s2.acc: 88.1990, s2.loss_bbox: 0.1331, loss: 1.0053\n",
      "2022-06-24 20:59:15,873 - mmdet - INFO - Epoch [2][20/107]\tlr: 1.000e-03, eta: 0:10:33, time: 0.647, data_time: 0.019, memory: 4749, loss_rpn_cls: 0.0345, loss_rpn_bbox: 0.0316, s0.loss_cls: 0.2415, s0.acc: 89.5117, s0.loss_bbox: 0.2204, s1.loss_cls: 0.1205, s1.acc: 89.2892, s1.loss_bbox: 0.2411, s2.loss_cls: 0.0674, s2.acc: 88.3107, s2.loss_bbox: 0.1377, loss: 1.0948\n",
      "2022-06-24 20:59:22,450 - mmdet - INFO - Epoch [2][30/107]\tlr: 1.000e-03, eta: 0:10:25, time: 0.658, data_time: 0.022, memory: 4749, loss_rpn_cls: 0.0218, loss_rpn_bbox: 0.0230, s0.loss_cls: 0.2116, s0.acc: 90.7178, s0.loss_bbox: 0.2001, s1.loss_cls: 0.1089, s1.acc: 90.8293, s1.loss_bbox: 0.2250, s2.loss_cls: 0.0617, s2.acc: 89.1382, s2.loss_bbox: 0.1274, loss: 0.9795\n",
      "2022-06-24 20:59:28,891 - mmdet - INFO - Epoch [2][40/107]\tlr: 1.000e-03, eta: 0:10:17, time: 0.644, data_time: 0.024, memory: 4749, loss_rpn_cls: 0.0225, loss_rpn_bbox: 0.0233, s0.loss_cls: 0.2076, s0.acc: 90.9033, s0.loss_bbox: 0.1957, s1.loss_cls: 0.1041, s1.acc: 90.6468, s1.loss_bbox: 0.2291, s2.loss_cls: 0.0634, s2.acc: 88.0111, s2.loss_bbox: 0.1456, loss: 0.9913\n",
      "2022-06-24 20:59:35,348 - mmdet - INFO - Epoch [2][50/107]\tlr: 1.000e-03, eta: 0:10:09, time: 0.646, data_time: 0.024, memory: 4749, loss_rpn_cls: 0.0289, loss_rpn_bbox: 0.0291, s0.loss_cls: 0.2535, s0.acc: 88.8721, s0.loss_bbox: 0.2398, s1.loss_cls: 0.1266, s1.acc: 88.8943, s1.loss_bbox: 0.2553, s2.loss_cls: 0.0679, s2.acc: 87.5864, s2.loss_bbox: 0.1421, loss: 1.1431\n",
      "2022-06-24 20:59:41,925 - mmdet - INFO - Epoch [2][60/107]\tlr: 1.000e-03, eta: 0:10:02, time: 0.658, data_time: 0.025, memory: 4749, loss_rpn_cls: 0.0252, loss_rpn_bbox: 0.0222, s0.loss_cls: 0.2140, s0.acc: 90.6738, s0.loss_bbox: 0.2052, s1.loss_cls: 0.1073, s1.acc: 90.5219, s1.loss_bbox: 0.2286, s2.loss_cls: 0.0621, s2.acc: 89.8159, s2.loss_bbox: 0.1357, loss: 1.0002\n",
      "2022-06-24 20:59:48,394 - mmdet - INFO - Epoch [2][70/107]\tlr: 1.000e-03, eta: 0:09:54, time: 0.647, data_time: 0.024, memory: 4749, loss_rpn_cls: 0.0235, loss_rpn_bbox: 0.0282, s0.loss_cls: 0.2148, s0.acc: 90.5664, s0.loss_bbox: 0.1961, s1.loss_cls: 0.1053, s1.acc: 90.9277, s1.loss_bbox: 0.2176, s2.loss_cls: 0.0601, s2.acc: 89.4599, s2.loss_bbox: 0.1311, loss: 0.9766\n",
      "2022-06-24 20:59:54,936 - mmdet - INFO - Epoch [2][80/107]\tlr: 1.000e-03, eta: 0:09:47, time: 0.654, data_time: 0.024, memory: 4749, loss_rpn_cls: 0.0224, loss_rpn_bbox: 0.0216, s0.loss_cls: 0.2196, s0.acc: 90.6641, s0.loss_bbox: 0.1999, s1.loss_cls: 0.1075, s1.acc: 90.7049, s1.loss_bbox: 0.2202, s2.loss_cls: 0.0584, s2.acc: 90.6239, s2.loss_bbox: 0.1304, loss: 0.9800\n",
      "2022-06-24 21:00:01,358 - mmdet - INFO - Epoch [2][90/107]\tlr: 1.000e-03, eta: 0:09:39, time: 0.642, data_time: 0.021, memory: 4749, loss_rpn_cls: 0.0194, loss_rpn_bbox: 0.0240, s0.loss_cls: 0.2153, s0.acc: 90.7715, s0.loss_bbox: 0.1857, s1.loss_cls: 0.1084, s1.acc: 90.9344, s1.loss_bbox: 0.2100, s2.loss_cls: 0.0611, s2.acc: 89.7004, s2.loss_bbox: 0.1282, loss: 0.9520\n",
      "2022-06-24 21:00:07,893 - mmdet - INFO - Epoch [2][100/107]\tlr: 1.000e-03, eta: 0:09:32, time: 0.653, data_time: 0.021, memory: 4749, loss_rpn_cls: 0.0284, loss_rpn_bbox: 0.0261, s0.loss_cls: 0.2080, s0.acc: 90.9277, s0.loss_bbox: 0.1763, s1.loss_cls: 0.0991, s1.acc: 91.5330, s1.loss_bbox: 0.2127, s2.loss_cls: 0.0564, s2.acc: 90.1446, s2.loss_bbox: 0.1387, loss: 0.9458\n",
      "2022-06-24 21:00:12,496 - mmdet - INFO - Saving checkpoint at 2 epochs\n"
     ]
    },
    {
     "name": "stdout",
     "output_type": "stream",
     "text": [
      "[>>>>>>>>>>>>>>>>>>>>>>>>>>>>>>>>] 50/50, 10.1 task/s, elapsed: 5s, ETA:     0s\n",
      "---------------iou_thr: 0.5---------------\n"
     ]
    },
    {
     "name": "stderr",
     "output_type": "stream",
     "text": [
      "2022-06-24 21:00:19,790 - mmdet - INFO - \n",
      "+--------+-----+------+--------+-------+\n",
      "| class  | gts | dets | recall | ap    |\n",
      "+--------+-----+------+--------+-------+\n",
      "| teeth  | 388 | 1206 | 0.884  | 0.747 |\n",
      "| caries | 6   | 0    | 0.000  | 0.000 |\n",
      "+--------+-----+------+--------+-------+\n",
      "| mAP    |     |      |        | 0.373 |\n",
      "+--------+-----+------+--------+-------+\n",
      "2022-06-24 21:00:19,794 - mmdet - INFO - Epoch(val) [2][50]\tAP50: 0.3730, mAP: 0.3733\n",
      "2022-06-24 21:00:29,540 - mmdet - INFO - Epoch [3][10/107]\tlr: 1.000e-03, eta: 0:09:15, time: 0.965, data_time: 0.286, memory: 4749, loss_rpn_cls: 0.0155, loss_rpn_bbox: 0.0180, s0.loss_cls: 0.1913, s0.acc: 91.9092, s0.loss_bbox: 0.1718, s1.loss_cls: 0.0919, s1.acc: 92.4172, s1.loss_bbox: 0.2057, s2.loss_cls: 0.0530, s2.acc: 90.9392, s2.loss_bbox: 0.1394, loss: 0.8866\n",
      "2022-06-24 21:00:36,034 - mmdet - INFO - Epoch [3][20/107]\tlr: 1.000e-03, eta: 0:09:08, time: 0.649, data_time: 0.021, memory: 4749, loss_rpn_cls: 0.0192, loss_rpn_bbox: 0.0233, s0.loss_cls: 0.2063, s0.acc: 91.1084, s0.loss_bbox: 0.1876, s1.loss_cls: 0.0966, s1.acc: 91.5824, s1.loss_bbox: 0.2192, s2.loss_cls: 0.0570, s2.acc: 90.0900, s2.loss_bbox: 0.1407, loss: 0.9500\n",
      "2022-06-24 21:00:42,643 - mmdet - INFO - Epoch [3][30/107]\tlr: 1.000e-03, eta: 0:09:01, time: 0.661, data_time: 0.021, memory: 4749, loss_rpn_cls: 0.0182, loss_rpn_bbox: 0.0209, s0.loss_cls: 0.2128, s0.acc: 90.6641, s0.loss_bbox: 0.2010, s1.loss_cls: 0.1038, s1.acc: 91.1778, s1.loss_bbox: 0.2343, s2.loss_cls: 0.0600, s2.acc: 88.8630, s2.loss_bbox: 0.1379, loss: 0.9889\n",
      "2022-06-24 21:00:49,200 - mmdet - INFO - Epoch [3][40/107]\tlr: 1.000e-03, eta: 0:08:55, time: 0.656, data_time: 0.023, memory: 4749, loss_rpn_cls: 0.0200, loss_rpn_bbox: 0.0232, s0.loss_cls: 0.1952, s0.acc: 91.4258, s0.loss_bbox: 0.1739, s1.loss_cls: 0.0906, s1.acc: 92.0993, s1.loss_bbox: 0.2046, s2.loss_cls: 0.0538, s2.acc: 90.3584, s2.loss_bbox: 0.1317, loss: 0.8930\n",
      "2022-06-24 21:00:55,664 - mmdet - INFO - Epoch [3][50/107]\tlr: 1.000e-03, eta: 0:08:48, time: 0.646, data_time: 0.025, memory: 4749, loss_rpn_cls: 0.0206, loss_rpn_bbox: 0.0247, s0.loss_cls: 0.2085, s0.acc: 90.8887, s0.loss_bbox: 0.1770, s1.loss_cls: 0.1054, s1.acc: 90.6582, s1.loss_bbox: 0.2125, s2.loss_cls: 0.0598, s2.acc: 89.3861, s2.loss_bbox: 0.1339, loss: 0.9424\n",
      "2022-06-24 21:01:02,210 - mmdet - INFO - Epoch [3][60/107]\tlr: 1.000e-03, eta: 0:08:41, time: 0.655, data_time: 0.028, memory: 4749, loss_rpn_cls: 0.0205, loss_rpn_bbox: 0.0215, s0.loss_cls: 0.2062, s0.acc: 91.2939, s0.loss_bbox: 0.1900, s1.loss_cls: 0.1053, s1.acc: 91.0085, s1.loss_bbox: 0.2166, s2.loss_cls: 0.0575, s2.acc: 89.6560, s2.loss_bbox: 0.1382, loss: 0.9559\n",
      "2022-06-24 21:01:08,685 - mmdet - INFO - Epoch [3][70/107]\tlr: 1.000e-03, eta: 0:08:35, time: 0.648, data_time: 0.024, memory: 4749, loss_rpn_cls: 0.0169, loss_rpn_bbox: 0.0309, s0.loss_cls: 0.2130, s0.acc: 90.8887, s0.loss_bbox: 0.1938, s1.loss_cls: 0.1067, s1.acc: 91.1426, s1.loss_bbox: 0.2121, s2.loss_cls: 0.0598, s2.acc: 89.4331, s2.loss_bbox: 0.1344, loss: 0.9677\n",
      "2022-06-24 21:01:15,167 - mmdet - INFO - Epoch [3][80/107]\tlr: 1.000e-03, eta: 0:08:28, time: 0.648, data_time: 0.022, memory: 4749, loss_rpn_cls: 0.0189, loss_rpn_bbox: 0.0236, s0.loss_cls: 0.1778, s0.acc: 92.6465, s0.loss_bbox: 0.1603, s1.loss_cls: 0.0886, s1.acc: 92.7188, s1.loss_bbox: 0.2042, s2.loss_cls: 0.0516, s2.acc: 90.8313, s2.loss_bbox: 0.1324, loss: 0.8575\n",
      "2022-06-24 21:01:21,770 - mmdet - INFO - Epoch [3][90/107]\tlr: 1.000e-03, eta: 0:08:21, time: 0.660, data_time: 0.025, memory: 4749, loss_rpn_cls: 0.0232, loss_rpn_bbox: 0.0271, s0.loss_cls: 0.2153, s0.acc: 90.4834, s0.loss_bbox: 0.2035, s1.loss_cls: 0.1117, s1.acc: 90.0298, s1.loss_bbox: 0.2428, s2.loss_cls: 0.0650, s2.acc: 88.2625, s2.loss_bbox: 0.1450, loss: 1.0335\n",
      "2022-06-24 21:01:28,289 - mmdet - INFO - Epoch [3][100/107]\tlr: 1.000e-03, eta: 0:08:15, time: 0.652, data_time: 0.022, memory: 4749, loss_rpn_cls: 0.0220, loss_rpn_bbox: 0.0247, s0.loss_cls: 0.2112, s0.acc: 90.9473, s0.loss_bbox: 0.1896, s1.loss_cls: 0.1019, s1.acc: 91.3957, s1.loss_bbox: 0.2164, s2.loss_cls: 0.0555, s2.acc: 90.0516, s2.loss_bbox: 0.1332, loss: 0.9545\n",
      "2022-06-24 21:01:32,871 - mmdet - INFO - Saving checkpoint at 3 epochs\n"
     ]
    },
    {
     "name": "stdout",
     "output_type": "stream",
     "text": [
      "[>>>>>>>>>>>>>>>>>>>>>>>>>>>>>>>>] 50/50, 10.4 task/s, elapsed: 5s, ETA:     0s\n",
      "---------------iou_thr: 0.5---------------\n"
     ]
    },
    {
     "name": "stderr",
     "output_type": "stream",
     "text": [
      "2022-06-24 21:01:39,594 - mmdet - INFO - \n",
      "+--------+-----+------+--------+-------+\n",
      "| class  | gts | dets | recall | ap    |\n",
      "+--------+-----+------+--------+-------+\n",
      "| teeth  | 388 | 1077 | 0.897  | 0.771 |\n",
      "| caries | 6   | 0    | 0.000  | 0.000 |\n",
      "+--------+-----+------+--------+-------+\n",
      "| mAP    |     |      |        | 0.386 |\n",
      "+--------+-----+------+--------+-------+\n",
      "2022-06-24 21:01:39,598 - mmdet - INFO - Epoch(val) [3][50]\tAP50: 0.3860, mAP: 0.3857\n",
      "2022-06-24 21:01:49,625 - mmdet - INFO - Epoch [4][10/107]\tlr: 1.000e-03, eta: 0:08:01, time: 0.993, data_time: 0.300, memory: 4749, loss_rpn_cls: 0.0138, loss_rpn_bbox: 0.0316, s0.loss_cls: 0.1897, s0.acc: 91.8213, s0.loss_bbox: 0.1781, s1.loss_cls: 0.0914, s1.acc: 92.2499, s1.loss_bbox: 0.2207, s2.loss_cls: 0.0525, s2.acc: 91.0404, s2.loss_bbox: 0.1471, loss: 0.9249\n",
      "2022-06-24 21:01:56,122 - mmdet - INFO - Epoch [4][20/107]\tlr: 1.000e-03, eta: 0:07:54, time: 0.650, data_time: 0.021, memory: 4749, loss_rpn_cls: 0.0162, loss_rpn_bbox: 0.0206, s0.loss_cls: 0.1945, s0.acc: 91.9873, s0.loss_bbox: 0.1597, s1.loss_cls: 0.0874, s1.acc: 92.8874, s1.loss_bbox: 0.2029, s2.loss_cls: 0.0506, s2.acc: 91.0082, s2.loss_bbox: 0.1408, loss: 0.8728\n",
      "2022-06-24 21:02:02,623 - mmdet - INFO - Epoch [4][30/107]\tlr: 1.000e-03, eta: 0:07:48, time: 0.650, data_time: 0.022, memory: 4749, loss_rpn_cls: 0.0158, loss_rpn_bbox: 0.0214, s0.loss_cls: 0.1978, s0.acc: 91.4062, s0.loss_bbox: 0.1788, s1.loss_cls: 0.0984, s1.acc: 91.7196, s1.loss_bbox: 0.2030, s2.loss_cls: 0.0556, s2.acc: 90.2527, s2.loss_bbox: 0.1323, loss: 0.9032\n",
      "2022-06-24 21:02:09,104 - mmdet - INFO - Epoch [4][40/107]\tlr: 1.000e-03, eta: 0:07:41, time: 0.648, data_time: 0.021, memory: 4749, loss_rpn_cls: 0.0210, loss_rpn_bbox: 0.0226, s0.loss_cls: 0.2010, s0.acc: 91.4209, s0.loss_bbox: 0.1900, s1.loss_cls: 0.0987, s1.acc: 91.6236, s1.loss_bbox: 0.2348, s2.loss_cls: 0.0585, s2.acc: 89.2453, s2.loss_bbox: 0.1407, loss: 0.9674\n",
      "2022-06-24 21:02:15,488 - mmdet - INFO - Epoch [4][50/107]\tlr: 1.000e-03, eta: 0:07:35, time: 0.638, data_time: 0.021, memory: 4749, loss_rpn_cls: 0.0230, loss_rpn_bbox: 0.0225, s0.loss_cls: 0.1793, s0.acc: 92.5098, s0.loss_bbox: 0.1442, s1.loss_cls: 0.0860, s1.acc: 93.0535, s1.loss_bbox: 0.1923, s2.loss_cls: 0.0499, s2.acc: 91.3512, s2.loss_bbox: 0.1276, loss: 0.8248\n",
      "2022-06-24 21:02:21,940 - mmdet - INFO - Epoch [4][60/107]\tlr: 1.000e-03, eta: 0:07:28, time: 0.645, data_time: 0.023, memory: 4749, loss_rpn_cls: 0.0157, loss_rpn_bbox: 0.0215, s0.loss_cls: 0.1959, s0.acc: 91.4111, s0.loss_bbox: 0.1919, s1.loss_cls: 0.0954, s1.acc: 91.5698, s1.loss_bbox: 0.2142, s2.loss_cls: 0.0542, s2.acc: 90.3746, s2.loss_bbox: 0.1277, loss: 0.9166\n",
      "2022-06-24 21:02:28,615 - mmdet - INFO - Epoch [4][70/107]\tlr: 1.000e-03, eta: 0:07:22, time: 0.668, data_time: 0.024, memory: 4749, loss_rpn_cls: 0.0138, loss_rpn_bbox: 0.0209, s0.loss_cls: 0.1946, s0.acc: 91.5381, s0.loss_bbox: 0.1729, s1.loss_cls: 0.0922, s1.acc: 91.7885, s1.loss_bbox: 0.2023, s2.loss_cls: 0.0510, s2.acc: 91.2224, s2.loss_bbox: 0.1290, loss: 0.8766\n",
      "2022-06-24 21:02:35,126 - mmdet - INFO - Epoch [4][80/107]\tlr: 1.000e-03, eta: 0:07:15, time: 0.651, data_time: 0.023, memory: 4749, loss_rpn_cls: 0.0150, loss_rpn_bbox: 0.0208, s0.loss_cls: 0.1915, s0.acc: 91.7139, s0.loss_bbox: 0.1854, s1.loss_cls: 0.0958, s1.acc: 91.9070, s1.loss_bbox: 0.2247, s2.loss_cls: 0.0550, s2.acc: 90.5171, s2.loss_bbox: 0.1475, loss: 0.9357\n",
      "2022-06-24 21:02:41,630 - mmdet - INFO - Epoch [4][90/107]\tlr: 1.000e-03, eta: 0:07:09, time: 0.650, data_time: 0.023, memory: 4749, loss_rpn_cls: 0.0153, loss_rpn_bbox: 0.0221, s0.loss_cls: 0.1892, s0.acc: 91.5186, s0.loss_bbox: 0.1642, s1.loss_cls: 0.0936, s1.acc: 91.7286, s1.loss_bbox: 0.2043, s2.loss_cls: 0.0524, s2.acc: 91.1605, s2.loss_bbox: 0.1270, loss: 0.8681\n",
      "2022-06-24 21:02:48,089 - mmdet - INFO - Epoch [4][100/107]\tlr: 1.000e-03, eta: 0:07:02, time: 0.646, data_time: 0.021, memory: 4749, loss_rpn_cls: 0.0176, loss_rpn_bbox: 0.0206, s0.loss_cls: 0.1816, s0.acc: 92.2754, s0.loss_bbox: 0.1683, s1.loss_cls: 0.0840, s1.acc: 93.3155, s1.loss_bbox: 0.2126, s2.loss_cls: 0.0493, s2.acc: 91.6683, s2.loss_bbox: 0.1439, loss: 0.8779\n",
      "2022-06-24 21:02:52,740 - mmdet - INFO - Saving checkpoint at 4 epochs\n"
     ]
    },
    {
     "name": "stdout",
     "output_type": "stream",
     "text": [
      "[>>>>>>>>>>>>>>>>>>>>>>>>>>>>>>>>] 50/50, 10.2 task/s, elapsed: 5s, ETA:     0s\n",
      "---------------iou_thr: 0.5---------------\n"
     ]
    },
    {
     "name": "stderr",
     "output_type": "stream",
     "text": [
      "2022-06-24 21:02:59,628 - mmdet - INFO - \n",
      "+--------+-----+------+--------+-------+\n",
      "| class  | gts | dets | recall | ap    |\n",
      "+--------+-----+------+--------+-------+\n",
      "| teeth  | 388 | 889  | 0.879  | 0.760 |\n",
      "| caries | 6   | 0    | 0.000  | 0.000 |\n",
      "+--------+-----+------+--------+-------+\n",
      "| mAP    |     |      |        | 0.380 |\n",
      "+--------+-----+------+--------+-------+\n",
      "2022-06-24 21:02:59,632 - mmdet - INFO - Epoch(val) [4][50]\tAP50: 0.3800, mAP: 0.3798\n",
      "2022-06-24 21:03:09,478 - mmdet - INFO - Epoch [5][10/107]\tlr: 1.000e-03, eta: 0:06:49, time: 0.975, data_time: 0.297, memory: 4749, loss_rpn_cls: 0.0159, loss_rpn_bbox: 0.0218, s0.loss_cls: 0.1904, s0.acc: 91.7871, s0.loss_bbox: 0.1696, s1.loss_cls: 0.0918, s1.acc: 92.3315, s1.loss_bbox: 0.1994, s2.loss_cls: 0.0512, s2.acc: 91.4298, s2.loss_bbox: 0.1283, loss: 0.8683\n",
      "2022-06-24 21:03:15,964 - mmdet - INFO - Epoch [5][20/107]\tlr: 1.000e-03, eta: 0:06:43, time: 0.649, data_time: 0.021, memory: 4749, loss_rpn_cls: 0.0120, loss_rpn_bbox: 0.0270, s0.loss_cls: 0.1838, s0.acc: 92.3145, s0.loss_bbox: 0.1531, s1.loss_cls: 0.0836, s1.acc: 93.0476, s1.loss_bbox: 0.1944, s2.loss_cls: 0.0464, s2.acc: 92.4385, s2.loss_bbox: 0.1366, loss: 0.8370\n",
      "2022-06-24 21:03:22,449 - mmdet - INFO - Epoch [5][30/107]\tlr: 1.000e-03, eta: 0:06:36, time: 0.648, data_time: 0.020, memory: 4749, loss_rpn_cls: 0.0175, loss_rpn_bbox: 0.0194, s0.loss_cls: 0.2000, s0.acc: 91.5625, s0.loss_bbox: 0.1707, s1.loss_cls: 0.0941, s1.acc: 92.3111, s1.loss_bbox: 0.2087, s2.loss_cls: 0.0546, s2.acc: 90.2946, s2.loss_bbox: 0.1353, loss: 0.9004\n",
      "2022-06-24 21:03:28,829 - mmdet - INFO - Epoch [5][40/107]\tlr: 1.000e-03, eta: 0:06:30, time: 0.638, data_time: 0.023, memory: 4749, loss_rpn_cls: 0.0145, loss_rpn_bbox: 0.0223, s0.loss_cls: 0.1792, s0.acc: 92.2168, s0.loss_bbox: 0.1681, s1.loss_cls: 0.0907, s1.acc: 92.1669, s1.loss_bbox: 0.2053, s2.loss_cls: 0.0513, s2.acc: 90.8531, s2.loss_bbox: 0.1436, loss: 0.8750\n",
      "2022-06-24 21:03:35,358 - mmdet - INFO - Epoch [5][50/107]\tlr: 1.000e-03, eta: 0:06:23, time: 0.653, data_time: 0.026, memory: 4749, loss_rpn_cls: 0.0128, loss_rpn_bbox: 0.0199, s0.loss_cls: 0.1764, s0.acc: 92.2656, s0.loss_bbox: 0.1569, s1.loss_cls: 0.0801, s1.acc: 93.2155, s1.loss_bbox: 0.1972, s2.loss_cls: 0.0482, s2.acc: 91.5788, s2.loss_bbox: 0.1198, loss: 0.8113\n",
      "2022-06-24 21:03:41,867 - mmdet - INFO - Epoch [5][60/107]\tlr: 1.000e-03, eta: 0:06:17, time: 0.651, data_time: 0.023, memory: 4749, loss_rpn_cls: 0.0121, loss_rpn_bbox: 0.0217, s0.loss_cls: 0.1839, s0.acc: 92.0020, s0.loss_bbox: 0.1782, s1.loss_cls: 0.0851, s1.acc: 92.7309, s1.loss_bbox: 0.2174, s2.loss_cls: 0.0507, s2.acc: 91.3278, s2.loss_bbox: 0.1391, loss: 0.8882\n",
      "2022-06-24 21:03:48,289 - mmdet - INFO - Epoch [5][70/107]\tlr: 1.000e-03, eta: 0:06:10, time: 0.642, data_time: 0.022, memory: 4749, loss_rpn_cls: 0.0157, loss_rpn_bbox: 0.0184, s0.loss_cls: 0.1798, s0.acc: 92.3438, s0.loss_bbox: 0.1541, s1.loss_cls: 0.0800, s1.acc: 93.4502, s1.loss_bbox: 0.1922, s2.loss_cls: 0.0456, s2.acc: 92.2518, s2.loss_bbox: 0.1283, loss: 0.8142\n",
      "2022-06-24 21:03:54,737 - mmdet - INFO - Epoch [5][80/107]\tlr: 1.000e-03, eta: 0:06:04, time: 0.645, data_time: 0.024, memory: 4749, loss_rpn_cls: 0.0197, loss_rpn_bbox: 0.0284, s0.loss_cls: 0.1904, s0.acc: 91.8164, s0.loss_bbox: 0.1672, s1.loss_cls: 0.0936, s1.acc: 92.2068, s1.loss_bbox: 0.2059, s2.loss_cls: 0.0531, s2.acc: 90.5609, s2.loss_bbox: 0.1396, loss: 0.8979\n",
      "2022-06-24 21:04:01,227 - mmdet - INFO - Epoch [5][90/107]\tlr: 1.000e-03, eta: 0:05:57, time: 0.649, data_time: 0.024, memory: 4749, loss_rpn_cls: 0.0141, loss_rpn_bbox: 0.0202, s0.loss_cls: 0.1872, s0.acc: 92.1533, s0.loss_bbox: 0.1588, s1.loss_cls: 0.0847, s1.acc: 92.8229, s1.loss_bbox: 0.2004, s2.loss_cls: 0.0477, s2.acc: 92.3101, s2.loss_bbox: 0.1372, loss: 0.8503\n",
      "2022-06-24 21:04:07,763 - mmdet - INFO - Epoch [5][100/107]\tlr: 1.000e-03, eta: 0:05:51, time: 0.654, data_time: 0.023, memory: 4749, loss_rpn_cls: 0.0127, loss_rpn_bbox: 0.0200, s0.loss_cls: 0.1708, s0.acc: 92.6074, s0.loss_bbox: 0.1606, s1.loss_cls: 0.0784, s1.acc: 93.5035, s1.loss_bbox: 0.2085, s2.loss_cls: 0.0453, s2.acc: 92.1550, s2.loss_bbox: 0.1476, loss: 0.8439\n",
      "2022-06-24 21:04:12,361 - mmdet - INFO - Saving checkpoint at 5 epochs\n"
     ]
    },
    {
     "name": "stdout",
     "output_type": "stream",
     "text": [
      "[>>>>>>>>>>>>>>>>>>>>>>>>>>>>>>>>>] 50/50, 9.9 task/s, elapsed: 5s, ETA:     0s\n",
      "---------------iou_thr: 0.5---------------\n"
     ]
    },
    {
     "name": "stderr",
     "output_type": "stream",
     "text": [
      "2022-06-24 21:04:19,296 - mmdet - INFO - \n",
      "+--------+-----+------+--------+-------+\n",
      "| class  | gts | dets | recall | ap    |\n",
      "+--------+-----+------+--------+-------+\n",
      "| teeth  | 388 | 937  | 0.897  | 0.781 |\n",
      "| caries | 6   | 0    | 0.000  | 0.000 |\n",
      "+--------+-----+------+--------+-------+\n",
      "| mAP    |     |      |        | 0.391 |\n",
      "+--------+-----+------+--------+-------+\n",
      "2022-06-24 21:04:19,302 - mmdet - INFO - Epoch(val) [5][50]\tAP50: 0.3910, mAP: 0.3905\n",
      "2022-06-24 21:04:29,278 - mmdet - INFO - Epoch [6][10/107]\tlr: 1.000e-03, eta: 0:05:39, time: 0.988, data_time: 0.315, memory: 4749, loss_rpn_cls: 0.0115, loss_rpn_bbox: 0.0210, s0.loss_cls: 0.1672, s0.acc: 93.0029, s0.loss_bbox: 0.1437, s1.loss_cls: 0.0779, s1.acc: 93.6225, s1.loss_bbox: 0.1864, s2.loss_cls: 0.0452, s2.acc: 92.4591, s2.loss_bbox: 0.1296, loss: 0.7826\n",
      "2022-06-24 21:04:35,668 - mmdet - INFO - Epoch [6][20/107]\tlr: 1.000e-03, eta: 0:05:32, time: 0.639, data_time: 0.021, memory: 4749, loss_rpn_cls: 0.0103, loss_rpn_bbox: 0.0201, s0.loss_cls: 0.1775, s0.acc: 92.4561, s0.loss_bbox: 0.1523, s1.loss_cls: 0.0838, s1.acc: 93.0031, s1.loss_bbox: 0.1972, s2.loss_cls: 0.0497, s2.acc: 91.0891, s2.loss_bbox: 0.1323, loss: 0.8232\n",
      "2022-06-24 21:04:42,209 - mmdet - INFO - Epoch [6][30/107]\tlr: 1.000e-03, eta: 0:05:26, time: 0.654, data_time: 0.025, memory: 4749, loss_rpn_cls: 0.0098, loss_rpn_bbox: 0.0192, s0.loss_cls: 0.1783, s0.acc: 92.2412, s0.loss_bbox: 0.1609, s1.loss_cls: 0.0844, s1.acc: 92.6317, s1.loss_bbox: 0.2046, s2.loss_cls: 0.0500, s2.acc: 91.5992, s2.loss_bbox: 0.1341, loss: 0.8414\n",
      "2022-06-24 21:04:48,686 - mmdet - INFO - Epoch [6][40/107]\tlr: 1.000e-03, eta: 0:05:19, time: 0.648, data_time: 0.023, memory: 4749, loss_rpn_cls: 0.0146, loss_rpn_bbox: 0.0228, s0.loss_cls: 0.1842, s0.acc: 92.0117, s0.loss_bbox: 0.1706, s1.loss_cls: 0.0887, s1.acc: 92.3440, s1.loss_bbox: 0.2044, s2.loss_cls: 0.0509, s2.acc: 91.4845, s2.loss_bbox: 0.1310, loss: 0.8673\n",
      "2022-06-24 21:04:55,173 - mmdet - INFO - Epoch [6][50/107]\tlr: 1.000e-03, eta: 0:05:13, time: 0.649, data_time: 0.024, memory: 4749, loss_rpn_cls: 0.0151, loss_rpn_bbox: 0.0288, s0.loss_cls: 0.1891, s0.acc: 91.9238, s0.loss_bbox: 0.1584, s1.loss_cls: 0.0884, s1.acc: 92.5298, s1.loss_bbox: 0.2133, s2.loss_cls: 0.0501, s2.acc: 91.4360, s2.loss_bbox: 0.1385, loss: 0.8818\n",
      "2022-06-24 21:05:01,606 - mmdet - INFO - Epoch [6][60/107]\tlr: 1.000e-03, eta: 0:05:06, time: 0.643, data_time: 0.022, memory: 4749, loss_rpn_cls: 0.0214, loss_rpn_bbox: 0.0214, s0.loss_cls: 0.1737, s0.acc: 92.9785, s0.loss_bbox: 0.1529, s1.loss_cls: 0.0794, s1.acc: 94.0142, s1.loss_bbox: 0.1927, s2.loss_cls: 0.0449, s2.acc: 92.3575, s2.loss_bbox: 0.1340, loss: 0.8205\n",
      "2022-06-24 21:05:08,002 - mmdet - INFO - Epoch [6][70/107]\tlr: 1.000e-03, eta: 0:05:00, time: 0.639, data_time: 0.020, memory: 4749, loss_rpn_cls: 0.0123, loss_rpn_bbox: 0.0179, s0.loss_cls: 0.1626, s0.acc: 93.2715, s0.loss_bbox: 0.1505, s1.loss_cls: 0.0759, s1.acc: 93.6893, s1.loss_bbox: 0.1883, s2.loss_cls: 0.0432, s2.acc: 92.4963, s2.loss_bbox: 0.1304, loss: 0.7811\n",
      "2022-06-24 21:05:14,551 - mmdet - INFO - Epoch [6][80/107]\tlr: 1.000e-03, eta: 0:04:53, time: 0.655, data_time: 0.024, memory: 4749, loss_rpn_cls: 0.0135, loss_rpn_bbox: 0.0160, s0.loss_cls: 0.1541, s0.acc: 93.6279, s0.loss_bbox: 0.1336, s1.loss_cls: 0.0695, s1.acc: 94.5994, s1.loss_bbox: 0.1856, s2.loss_cls: 0.0405, s2.acc: 93.5090, s2.loss_bbox: 0.1345, loss: 0.7473\n",
      "2022-06-24 21:05:20,971 - mmdet - INFO - Epoch [6][90/107]\tlr: 1.000e-03, eta: 0:04:47, time: 0.642, data_time: 0.024, memory: 4749, loss_rpn_cls: 0.0140, loss_rpn_bbox: 0.0226, s0.loss_cls: 0.1825, s0.acc: 92.4170, s0.loss_bbox: 0.1517, s1.loss_cls: 0.0839, s1.acc: 92.8987, s1.loss_bbox: 0.1846, s2.loss_cls: 0.0476, s2.acc: 91.8893, s2.loss_bbox: 0.1311, loss: 0.8179\n",
      "2022-06-24 21:05:27,402 - mmdet - INFO - Epoch [6][100/107]\tlr: 1.000e-03, eta: 0:04:40, time: 0.643, data_time: 0.020, memory: 4749, loss_rpn_cls: 0.0092, loss_rpn_bbox: 0.0174, s0.loss_cls: 0.1735, s0.acc: 92.3975, s0.loss_bbox: 0.1681, s1.loss_cls: 0.0830, s1.acc: 93.0670, s1.loss_bbox: 0.2143, s2.loss_cls: 0.0473, s2.acc: 91.7342, s2.loss_bbox: 0.1425, loss: 0.8551\n",
      "2022-06-24 21:05:32,014 - mmdet - INFO - Saving checkpoint at 6 epochs\n"
     ]
    },
    {
     "name": "stdout",
     "output_type": "stream",
     "text": [
      "[>>>>>>>>>>>>>>>>>>>>>>>>>>>>>>>>] 50/50, 10.2 task/s, elapsed: 5s, ETA:     0s\n",
      "---------------iou_thr: 0.5---------------\n"
     ]
    },
    {
     "name": "stderr",
     "output_type": "stream",
     "text": [
      "2022-06-24 21:05:38,862 - mmdet - INFO - \n",
      "+--------+-----+------+--------+-------+\n",
      "| class  | gts | dets | recall | ap    |\n",
      "+--------+-----+------+--------+-------+\n",
      "| teeth  | 388 | 865  | 0.884  | 0.769 |\n",
      "| caries | 6   | 0    | 0.000  | 0.000 |\n",
      "+--------+-----+------+--------+-------+\n",
      "| mAP    |     |      |        | 0.384 |\n",
      "+--------+-----+------+--------+-------+\n",
      "2022-06-24 21:05:38,866 - mmdet - INFO - Epoch(val) [6][50]\tAP50: 0.3840, mAP: 0.3843\n",
      "2022-06-24 21:05:49,288 - mmdet - INFO - Epoch [7][10/107]\tlr: 1.000e-03, eta: 0:04:29, time: 1.033, data_time: 0.302, memory: 4749, loss_rpn_cls: 0.0169, loss_rpn_bbox: 0.0234, s0.loss_cls: 0.1645, s0.acc: 93.3252, s0.loss_bbox: 0.1501, s1.loss_cls: 0.0767, s1.acc: 94.0999, s1.loss_bbox: 0.1874, s2.loss_cls: 0.0452, s2.acc: 92.6631, s2.loss_bbox: 0.1316, loss: 0.7957\n",
      "2022-06-24 21:05:55,673 - mmdet - INFO - Epoch [7][20/107]\tlr: 1.000e-03, eta: 0:04:23, time: 0.639, data_time: 0.020, memory: 4749, loss_rpn_cls: 0.0128, loss_rpn_bbox: 0.0170, s0.loss_cls: 0.1640, s0.acc: 93.3350, s0.loss_bbox: 0.1385, s1.loss_cls: 0.0747, s1.acc: 93.6757, s1.loss_bbox: 0.1867, s2.loss_cls: 0.0436, s2.acc: 92.6633, s2.loss_bbox: 0.1277, loss: 0.7651\n",
      "2022-06-24 21:06:02,122 - mmdet - INFO - Epoch [7][30/107]\tlr: 1.000e-03, eta: 0:04:16, time: 0.645, data_time: 0.022, memory: 4749, loss_rpn_cls: 0.0101, loss_rpn_bbox: 0.0207, s0.loss_cls: 0.1722, s0.acc: 92.7539, s0.loss_bbox: 0.1663, s1.loss_cls: 0.0808, s1.acc: 93.4703, s1.loss_bbox: 0.1955, s2.loss_cls: 0.0473, s2.acc: 91.8223, s2.loss_bbox: 0.1341, loss: 0.8269\n",
      "2022-06-24 21:06:08,586 - mmdet - INFO - Epoch [7][40/107]\tlr: 1.000e-03, eta: 0:04:10, time: 0.646, data_time: 0.024, memory: 4749, loss_rpn_cls: 0.0169, loss_rpn_bbox: 0.0195, s0.loss_cls: 0.1756, s0.acc: 92.8174, s0.loss_bbox: 0.1503, s1.loss_cls: 0.0825, s1.acc: 93.4264, s1.loss_bbox: 0.1976, s2.loss_cls: 0.0463, s2.acc: 92.2781, s2.loss_bbox: 0.1416, loss: 0.8303\n",
      "2022-06-24 21:06:14,995 - mmdet - INFO - Epoch [7][50/107]\tlr: 1.000e-03, eta: 0:04:03, time: 0.641, data_time: 0.022, memory: 4749, loss_rpn_cls: 0.0110, loss_rpn_bbox: 0.0191, s0.loss_cls: 0.1578, s0.acc: 93.2715, s0.loss_bbox: 0.1389, s1.loss_cls: 0.0666, s1.acc: 94.5108, s1.loss_bbox: 0.1814, s2.loss_cls: 0.0418, s2.acc: 92.7011, s2.loss_bbox: 0.1279, loss: 0.7445\n",
      "2022-06-24 21:06:21,538 - mmdet - INFO - Epoch [7][60/107]\tlr: 1.000e-03, eta: 0:03:57, time: 0.654, data_time: 0.027, memory: 4749, loss_rpn_cls: 0.0117, loss_rpn_bbox: 0.0207, s0.loss_cls: 0.1723, s0.acc: 92.7832, s0.loss_bbox: 0.1508, s1.loss_cls: 0.0788, s1.acc: 93.6920, s1.loss_bbox: 0.1699, s2.loss_cls: 0.0431, s2.acc: 92.9200, s2.loss_bbox: 0.1193, loss: 0.7667\n",
      "2022-06-24 21:06:27,958 - mmdet - INFO - Epoch [7][70/107]\tlr: 1.000e-03, eta: 0:03:50, time: 0.642, data_time: 0.023, memory: 4749, loss_rpn_cls: 0.0120, loss_rpn_bbox: 0.0187, s0.loss_cls: 0.1691, s0.acc: 92.7734, s0.loss_bbox: 0.1395, s1.loss_cls: 0.0763, s1.acc: 94.0155, s1.loss_bbox: 0.1891, s2.loss_cls: 0.0465, s2.acc: 92.3650, s2.loss_bbox: 0.1347, loss: 0.7858\n",
      "2022-06-24 21:06:34,331 - mmdet - INFO - Epoch [7][80/107]\tlr: 1.000e-03, eta: 0:03:44, time: 0.637, data_time: 0.024, memory: 4749, loss_rpn_cls: 0.0116, loss_rpn_bbox: 0.0207, s0.loss_cls: 0.1757, s0.acc: 92.5586, s0.loss_bbox: 0.1459, s1.loss_cls: 0.0845, s1.acc: 92.5747, s1.loss_bbox: 0.1883, s2.loss_cls: 0.0480, s2.acc: 91.2800, s2.loss_bbox: 0.1284, loss: 0.8030\n",
      "2022-06-24 21:06:40,766 - mmdet - INFO - Epoch [7][90/107]\tlr: 1.000e-03, eta: 0:03:37, time: 0.643, data_time: 0.024, memory: 4749, loss_rpn_cls: 0.0093, loss_rpn_bbox: 0.0179, s0.loss_cls: 0.1621, s0.acc: 93.0811, s0.loss_bbox: 0.1325, s1.loss_cls: 0.0723, s1.acc: 94.0396, s1.loss_bbox: 0.1851, s2.loss_cls: 0.0416, s2.acc: 92.7914, s2.loss_bbox: 0.1377, loss: 0.7585\n",
      "2022-06-24 21:06:47,141 - mmdet - INFO - Epoch [7][100/107]\tlr: 1.000e-03, eta: 0:03:31, time: 0.637, data_time: 0.021, memory: 4749, loss_rpn_cls: 0.0104, loss_rpn_bbox: 0.0211, s0.loss_cls: 0.1629, s0.acc: 93.1934, s0.loss_bbox: 0.1452, s1.loss_cls: 0.0749, s1.acc: 93.7736, s1.loss_bbox: 0.1884, s2.loss_cls: 0.0438, s2.acc: 92.4360, s2.loss_bbox: 0.1223, loss: 0.7690\n",
      "2022-06-24 21:06:51,791 - mmdet - INFO - Saving checkpoint at 7 epochs\n"
     ]
    },
    {
     "name": "stdout",
     "output_type": "stream",
     "text": [
      "[>>>>>>>>>>>>>>>>>>>>>>>>>>>>>>>>] 50/50, 10.5 task/s, elapsed: 5s, ETA:     0s\n",
      "---------------iou_thr: 0.5---------------\n"
     ]
    },
    {
     "name": "stderr",
     "output_type": "stream",
     "text": [
      "2022-06-24 21:06:58,462 - mmdet - INFO - \n",
      "+--------+-----+------+--------+-------+\n",
      "| class  | gts | dets | recall | ap    |\n",
      "+--------+-----+------+--------+-------+\n",
      "| teeth  | 388 | 776  | 0.866  | 0.765 |\n",
      "| caries | 6   | 0    | 0.000  | 0.000 |\n",
      "+--------+-----+------+--------+-------+\n",
      "| mAP    |     |      |        | 0.383 |\n",
      "+--------+-----+------+--------+-------+\n",
      "2022-06-24 21:06:58,465 - mmdet - INFO - Epoch(val) [7][50]\tAP50: 0.3830, mAP: 0.3826\n",
      "2022-06-24 21:07:08,596 - mmdet - INFO - Epoch [8][10/107]\tlr: 1.000e-03, eta: 0:03:20, time: 1.003, data_time: 0.302, memory: 4749, loss_rpn_cls: 0.0100, loss_rpn_bbox: 0.0176, s0.loss_cls: 0.1592, s0.acc: 93.3350, s0.loss_bbox: 0.1360, s1.loss_cls: 0.0678, s1.acc: 94.5905, s1.loss_bbox: 0.1730, s2.loss_cls: 0.0390, s2.acc: 93.7814, s2.loss_bbox: 0.1283, loss: 0.7308\n",
      "2022-06-24 21:07:14,956 - mmdet - INFO - Epoch [8][20/107]\tlr: 1.000e-03, eta: 0:03:13, time: 0.636, data_time: 0.021, memory: 4749, loss_rpn_cls: 0.0086, loss_rpn_bbox: 0.0192, s0.loss_cls: 0.1531, s0.acc: 93.4326, s0.loss_bbox: 0.1344, s1.loss_cls: 0.0645, s1.acc: 94.7182, s1.loss_bbox: 0.1704, s2.loss_cls: 0.0375, s2.acc: 93.5874, s2.loss_bbox: 0.1246, loss: 0.7123\n",
      "2022-06-24 21:07:21,426 - mmdet - INFO - Epoch [8][30/107]\tlr: 1.000e-03, eta: 0:03:07, time: 0.647, data_time: 0.026, memory: 4749, loss_rpn_cls: 0.0093, loss_rpn_bbox: 0.0209, s0.loss_cls: 0.1549, s0.acc: 93.4473, s0.loss_bbox: 0.1365, s1.loss_cls: 0.0701, s1.acc: 94.3400, s1.loss_bbox: 0.1796, s2.loss_cls: 0.0435, s2.acc: 92.4877, s2.loss_bbox: 0.1315, loss: 0.7463\n",
      "2022-06-24 21:07:27,867 - mmdet - INFO - Epoch [8][40/107]\tlr: 1.000e-03, eta: 0:03:00, time: 0.644, data_time: 0.021, memory: 4749, loss_rpn_cls: 0.0098, loss_rpn_bbox: 0.0162, s0.loss_cls: 0.1547, s0.acc: 93.5010, s0.loss_bbox: 0.1341, s1.loss_cls: 0.0724, s1.acc: 93.8965, s1.loss_bbox: 0.1766, s2.loss_cls: 0.0419, s2.acc: 92.8353, s2.loss_bbox: 0.1201, loss: 0.7260\n",
      "2022-06-24 21:07:34,297 - mmdet - INFO - Epoch [8][50/107]\tlr: 1.000e-03, eta: 0:02:54, time: 0.643, data_time: 0.023, memory: 4749, loss_rpn_cls: 0.0107, loss_rpn_bbox: 0.0204, s0.loss_cls: 0.1646, s0.acc: 93.1055, s0.loss_bbox: 0.1440, s1.loss_cls: 0.0759, s1.acc: 93.6849, s1.loss_bbox: 0.1874, s2.loss_cls: 0.0455, s2.acc: 92.4271, s2.loss_bbox: 0.1338, loss: 0.7822\n",
      "2022-06-24 21:07:40,759 - mmdet - INFO - Epoch [8][60/107]\tlr: 1.000e-03, eta: 0:02:47, time: 0.646, data_time: 0.024, memory: 4749, loss_rpn_cls: 0.0095, loss_rpn_bbox: 0.0184, s0.loss_cls: 0.1737, s0.acc: 92.4170, s0.loss_bbox: 0.1427, s1.loss_cls: 0.0764, s1.acc: 93.5088, s1.loss_bbox: 0.1939, s2.loss_cls: 0.0456, s2.acc: 92.0400, s2.loss_bbox: 0.1383, loss: 0.7986\n",
      "2022-06-24 21:07:47,171 - mmdet - INFO - Epoch [8][70/107]\tlr: 1.000e-03, eta: 0:02:41, time: 0.641, data_time: 0.023, memory: 4749, loss_rpn_cls: 0.0116, loss_rpn_bbox: 0.0228, s0.loss_cls: 0.1709, s0.acc: 92.4658, s0.loss_bbox: 0.1397, s1.loss_cls: 0.0784, s1.acc: 93.5232, s1.loss_bbox: 0.1898, s2.loss_cls: 0.0481, s2.acc: 91.9970, s2.loss_bbox: 0.1358, loss: 0.7973\n",
      "2022-06-24 21:07:53,695 - mmdet - INFO - Epoch [8][80/107]\tlr: 1.000e-03, eta: 0:02:35, time: 0.652, data_time: 0.025, memory: 4749, loss_rpn_cls: 0.0138, loss_rpn_bbox: 0.0243, s0.loss_cls: 0.1766, s0.acc: 92.3584, s0.loss_bbox: 0.1476, s1.loss_cls: 0.0794, s1.acc: 93.5778, s1.loss_bbox: 0.1927, s2.loss_cls: 0.0471, s2.acc: 92.3712, s2.loss_bbox: 0.1334, loss: 0.8149\n",
      "2022-06-24 21:08:00,093 - mmdet - INFO - Epoch [8][90/107]\tlr: 1.000e-03, eta: 0:02:28, time: 0.640, data_time: 0.022, memory: 4749, loss_rpn_cls: 0.0091, loss_rpn_bbox: 0.0154, s0.loss_cls: 0.1474, s0.acc: 93.7695, s0.loss_bbox: 0.1207, s1.loss_cls: 0.0650, s1.acc: 94.9920, s1.loss_bbox: 0.1682, s2.loss_cls: 0.0395, s2.acc: 93.9093, s2.loss_bbox: 0.1242, loss: 0.6896\n",
      "2022-06-24 21:08:06,536 - mmdet - INFO - Epoch [8][100/107]\tlr: 1.000e-03, eta: 0:02:22, time: 0.644, data_time: 0.022, memory: 4749, loss_rpn_cls: 0.0120, loss_rpn_bbox: 0.0191, s0.loss_cls: 0.1669, s0.acc: 93.0273, s0.loss_bbox: 0.1434, s1.loss_cls: 0.0789, s1.acc: 93.4507, s1.loss_bbox: 0.1812, s2.loss_cls: 0.0458, s2.acc: 92.4268, s2.loss_bbox: 0.1324, loss: 0.7797\n",
      "2022-06-24 21:08:11,204 - mmdet - INFO - Saving checkpoint at 8 epochs\n"
     ]
    },
    {
     "name": "stdout",
     "output_type": "stream",
     "text": [
      "[>>>>>>>>>>>>>>>>>>>>>>>>>>>>>>>>] 50/50, 10.9 task/s, elapsed: 5s, ETA:     0s\n",
      "---------------iou_thr: 0.5---------------\n"
     ]
    },
    {
     "name": "stderr",
     "output_type": "stream",
     "text": [
      "2022-06-24 21:08:17,689 - mmdet - INFO - \n",
      "+--------+-----+------+--------+-------+\n",
      "| class  | gts | dets | recall | ap    |\n",
      "+--------+-----+------+--------+-------+\n",
      "| teeth  | 388 | 788  | 0.874  | 0.759 |\n",
      "| caries | 6   | 0    | 0.000  | 0.000 |\n",
      "+--------+-----+------+--------+-------+\n",
      "| mAP    |     |      |        | 0.379 |\n",
      "+--------+-----+------+--------+-------+\n",
      "2022-06-24 21:08:17,693 - mmdet - INFO - Epoch(val) [8][50]\tAP50: 0.3790, mAP: 0.3793\n",
      "2022-06-24 21:08:27,811 - mmdet - INFO - Epoch [9][10/107]\tlr: 1.000e-04, eta: 0:02:11, time: 1.002, data_time: 0.336, memory: 4749, loss_rpn_cls: 0.0091, loss_rpn_bbox: 0.0183, s0.loss_cls: 0.1504, s0.acc: 93.4912, s0.loss_bbox: 0.1288, s1.loss_cls: 0.0648, s1.acc: 94.3926, s1.loss_bbox: 0.1742, s2.loss_cls: 0.0397, s2.acc: 93.2976, s2.loss_bbox: 0.1269, loss: 0.7123\n",
      "2022-06-24 21:08:34,219 - mmdet - INFO - Epoch [9][20/107]\tlr: 1.000e-04, eta: 0:02:04, time: 0.641, data_time: 0.023, memory: 4749, loss_rpn_cls: 0.0087, loss_rpn_bbox: 0.0165, s0.loss_cls: 0.1418, s0.acc: 93.9697, s0.loss_bbox: 0.1214, s1.loss_cls: 0.0629, s1.acc: 94.7546, s1.loss_bbox: 0.1655, s2.loss_cls: 0.0376, s2.acc: 93.8745, s2.loss_bbox: 0.1209, loss: 0.6752\n",
      "2022-06-24 21:08:40,697 - mmdet - INFO - Epoch [9][30/107]\tlr: 1.000e-04, eta: 0:01:58, time: 0.648, data_time: 0.023, memory: 4749, loss_rpn_cls: 0.0107, loss_rpn_bbox: 0.0192, s0.loss_cls: 0.1739, s0.acc: 92.4561, s0.loss_bbox: 0.1430, s1.loss_cls: 0.0789, s1.acc: 93.3957, s1.loss_bbox: 0.1820, s2.loss_cls: 0.0451, s2.acc: 92.7620, s2.loss_bbox: 0.1367, loss: 0.7896\n",
      "2022-06-24 21:08:47,169 - mmdet - INFO - Epoch [9][40/107]\tlr: 1.000e-04, eta: 0:01:51, time: 0.647, data_time: 0.020, memory: 4749, loss_rpn_cls: 0.0107, loss_rpn_bbox: 0.0201, s0.loss_cls: 0.1707, s0.acc: 92.5879, s0.loss_bbox: 0.1361, s1.loss_cls: 0.0746, s1.acc: 93.9146, s1.loss_bbox: 0.1888, s2.loss_cls: 0.0445, s2.acc: 92.8954, s2.loss_bbox: 0.1373, loss: 0.7829\n",
      "2022-06-24 21:08:53,629 - mmdet - INFO - Epoch [9][50/107]\tlr: 1.000e-04, eta: 0:01:45, time: 0.646, data_time: 0.027, memory: 4749, loss_rpn_cls: 0.0088, loss_rpn_bbox: 0.0168, s0.loss_cls: 0.1426, s0.acc: 94.0576, s0.loss_bbox: 0.1200, s1.loss_cls: 0.0566, s1.acc: 95.3352, s1.loss_bbox: 0.1643, s2.loss_cls: 0.0363, s2.acc: 94.4552, s2.loss_bbox: 0.1218, loss: 0.6673\n",
      "2022-06-24 21:09:00,082 - mmdet - INFO - Epoch [9][60/107]\tlr: 1.000e-04, eta: 0:01:38, time: 0.645, data_time: 0.023, memory: 4749, loss_rpn_cls: 0.0112, loss_rpn_bbox: 0.0167, s0.loss_cls: 0.1393, s0.acc: 94.3848, s0.loss_bbox: 0.1156, s1.loss_cls: 0.0600, s1.acc: 95.3984, s1.loss_bbox: 0.1574, s2.loss_cls: 0.0361, s2.acc: 94.3655, s2.loss_bbox: 0.1149, loss: 0.6512\n",
      "2022-06-24 21:09:06,483 - mmdet - INFO - Epoch [9][70/107]\tlr: 1.000e-04, eta: 0:01:32, time: 0.640, data_time: 0.022, memory: 4749, loss_rpn_cls: 0.0077, loss_rpn_bbox: 0.0214, s0.loss_cls: 0.1549, s0.acc: 93.5107, s0.loss_bbox: 0.1418, s1.loss_cls: 0.0701, s1.acc: 94.4345, s1.loss_bbox: 0.1763, s2.loss_cls: 0.0405, s2.acc: 93.1308, s2.loss_bbox: 0.1255, loss: 0.7381\n",
      "2022-06-24 21:09:12,931 - mmdet - INFO - Epoch [9][80/107]\tlr: 1.000e-04, eta: 0:01:26, time: 0.645, data_time: 0.022, memory: 4749, loss_rpn_cls: 0.0144, loss_rpn_bbox: 0.0188, s0.loss_cls: 0.1590, s0.acc: 93.4424, s0.loss_bbox: 0.1350, s1.loss_cls: 0.0695, s1.acc: 94.7486, s1.loss_bbox: 0.1785, s2.loss_cls: 0.0384, s2.acc: 94.1161, s2.loss_bbox: 0.1350, loss: 0.7487\n",
      "2022-06-24 21:09:19,326 - mmdet - INFO - Epoch [9][90/107]\tlr: 1.000e-04, eta: 0:01:19, time: 0.640, data_time: 0.022, memory: 4749, loss_rpn_cls: 0.0104, loss_rpn_bbox: 0.0219, s0.loss_cls: 0.1673, s0.acc: 93.0371, s0.loss_bbox: 0.1387, s1.loss_cls: 0.0707, s1.acc: 94.2548, s1.loss_bbox: 0.1793, s2.loss_cls: 0.0410, s2.acc: 93.3908, s2.loss_bbox: 0.1267, loss: 0.7560\n",
      "2022-06-24 21:09:25,661 - mmdet - INFO - Epoch [9][100/107]\tlr: 1.000e-04, eta: 0:01:13, time: 0.633, data_time: 0.020, memory: 4749, loss_rpn_cls: 0.0064, loss_rpn_bbox: 0.0124, s0.loss_cls: 0.1306, s0.acc: 94.4971, s0.loss_bbox: 0.1024, s1.loss_cls: 0.0499, s1.acc: 95.9550, s1.loss_bbox: 0.1506, s2.loss_cls: 0.0305, s2.acc: 95.3052, s2.loss_bbox: 0.1202, loss: 0.6031\n",
      "2022-06-24 21:09:30,169 - mmdet - INFO - Saving checkpoint at 9 epochs\n"
     ]
    },
    {
     "name": "stdout",
     "output_type": "stream",
     "text": [
      "[>>>>>>>>>>>>>>>>>>>>>>>>>>>>>>>>] 50/50, 10.3 task/s, elapsed: 5s, ETA:     0s\n",
      "---------------iou_thr: 0.5---------------\n"
     ]
    },
    {
     "name": "stderr",
     "output_type": "stream",
     "text": [
      "2022-06-24 21:09:37,450 - mmdet - INFO - \n",
      "+--------+-----+------+--------+-------+\n",
      "| class  | gts | dets | recall | ap    |\n",
      "+--------+-----+------+--------+-------+\n",
      "| teeth  | 388 | 767  | 0.879  | 0.769 |\n",
      "| caries | 6   | 0    | 0.000  | 0.000 |\n",
      "+--------+-----+------+--------+-------+\n",
      "| mAP    |     |      |        | 0.384 |\n",
      "+--------+-----+------+--------+-------+\n",
      "2022-06-24 21:09:37,454 - mmdet - INFO - Epoch(val) [9][50]\tAP50: 0.3840, mAP: 0.3843\n",
      "2022-06-24 21:09:47,086 - mmdet - INFO - Epoch [10][10/107]\tlr: 1.000e-04, eta: 0:01:02, time: 0.954, data_time: 0.279, memory: 4749, loss_rpn_cls: 0.0098, loss_rpn_bbox: 0.0218, s0.loss_cls: 0.1503, s0.acc: 93.6328, s0.loss_bbox: 0.1320, s1.loss_cls: 0.0655, s1.acc: 94.6909, s1.loss_bbox: 0.1736, s2.loss_cls: 0.0382, s2.acc: 93.4876, s2.loss_bbox: 0.1227, loss: 0.7139\n",
      "2022-06-24 21:09:53,492 - mmdet - INFO - Epoch [10][20/107]\tlr: 1.000e-04, eta: 0:00:55, time: 0.641, data_time: 0.020, memory: 4749, loss_rpn_cls: 0.0079, loss_rpn_bbox: 0.0152, s0.loss_cls: 0.1402, s0.acc: 94.1553, s0.loss_bbox: 0.1197, s1.loss_cls: 0.0609, s1.acc: 95.0168, s1.loss_bbox: 0.1595, s2.loss_cls: 0.0354, s2.acc: 94.5541, s2.loss_bbox: 0.1230, loss: 0.6617\n",
      "2022-06-24 21:09:59,939 - mmdet - INFO - Epoch [10][30/107]\tlr: 1.000e-04, eta: 0:00:49, time: 0.645, data_time: 0.022, memory: 4749, loss_rpn_cls: 0.0094, loss_rpn_bbox: 0.0193, s0.loss_cls: 0.1566, s0.acc: 93.3398, s0.loss_bbox: 0.1295, s1.loss_cls: 0.0693, s1.acc: 94.2317, s1.loss_bbox: 0.1751, s2.loss_cls: 0.0396, s2.acc: 93.8873, s2.loss_bbox: 0.1278, loss: 0.7266\n",
      "2022-06-24 21:10:06,378 - mmdet - INFO - Epoch [10][40/107]\tlr: 1.000e-04, eta: 0:00:42, time: 0.644, data_time: 0.023, memory: 4749, loss_rpn_cls: 0.0120, loss_rpn_bbox: 0.0188, s0.loss_cls: 0.1445, s0.acc: 93.9404, s0.loss_bbox: 0.1233, s1.loss_cls: 0.0601, s1.acc: 95.2869, s1.loss_bbox: 0.1603, s2.loss_cls: 0.0354, s2.acc: 94.2889, s2.loss_bbox: 0.1161, loss: 0.6706\n",
      "2022-06-24 21:10:12,821 - mmdet - INFO - Epoch [10][50/107]\tlr: 1.000e-04, eta: 0:00:36, time: 0.644, data_time: 0.021, memory: 4749, loss_rpn_cls: 0.0095, loss_rpn_bbox: 0.0193, s0.loss_cls: 0.1649, s0.acc: 92.7930, s0.loss_bbox: 0.1316, s1.loss_cls: 0.0724, s1.acc: 93.9317, s1.loss_bbox: 0.1787, s2.loss_cls: 0.0414, s2.acc: 92.7027, s2.loss_bbox: 0.1317, loss: 0.7495\n",
      "2022-06-24 21:10:19,252 - mmdet - INFO - Epoch [10][60/107]\tlr: 1.000e-04, eta: 0:00:30, time: 0.643, data_time: 0.024, memory: 4749, loss_rpn_cls: 0.0117, loss_rpn_bbox: 0.0144, s0.loss_cls: 0.1468, s0.acc: 94.1113, s0.loss_bbox: 0.1182, s1.loss_cls: 0.0610, s1.acc: 95.3551, s1.loss_bbox: 0.1622, s2.loss_cls: 0.0356, s2.acc: 94.3662, s2.loss_bbox: 0.1238, loss: 0.6737\n",
      "2022-06-24 21:10:25,633 - mmdet - INFO - Epoch [10][70/107]\tlr: 1.000e-04, eta: 0:00:23, time: 0.638, data_time: 0.023, memory: 4749, loss_rpn_cls: 0.0088, loss_rpn_bbox: 0.0173, s0.loss_cls: 0.1430, s0.acc: 94.1016, s0.loss_bbox: 0.1146, s1.loss_cls: 0.0577, s1.acc: 95.3547, s1.loss_bbox: 0.1635, s2.loss_cls: 0.0343, s2.acc: 94.1345, s2.loss_bbox: 0.1226, loss: 0.6618\n",
      "2022-06-24 21:10:32,072 - mmdet - INFO - Epoch [10][80/107]\tlr: 1.000e-04, eta: 0:00:17, time: 0.644, data_time: 0.024, memory: 4749, loss_rpn_cls: 0.0098, loss_rpn_bbox: 0.0202, s0.loss_cls: 0.1475, s0.acc: 93.8135, s0.loss_bbox: 0.1205, s1.loss_cls: 0.0688, s1.acc: 94.4594, s1.loss_bbox: 0.1599, s2.loss_cls: 0.0403, s2.acc: 93.1487, s2.loss_bbox: 0.1264, loss: 0.6934\n",
      "2022-06-24 21:10:38,578 - mmdet - INFO - Epoch [10][90/107]\tlr: 1.000e-04, eta: 0:00:10, time: 0.651, data_time: 0.027, memory: 4749, loss_rpn_cls: 0.0113, loss_rpn_bbox: 0.0180, s0.loss_cls: 0.1566, s0.acc: 93.3350, s0.loss_bbox: 0.1433, s1.loss_cls: 0.0750, s1.acc: 94.0742, s1.loss_bbox: 0.1884, s2.loss_cls: 0.0450, s2.acc: 92.6884, s2.loss_bbox: 0.1383, loss: 0.7759\n",
      "2022-06-24 21:10:44,934 - mmdet - INFO - Epoch [10][100/107]\tlr: 1.000e-04, eta: 0:00:04, time: 0.636, data_time: 0.021, memory: 4749, loss_rpn_cls: 0.0083, loss_rpn_bbox: 0.0165, s0.loss_cls: 0.1429, s0.acc: 94.1553, s0.loss_bbox: 0.1259, s1.loss_cls: 0.0596, s1.acc: 95.2742, s1.loss_bbox: 0.1693, s2.loss_cls: 0.0381, s2.acc: 93.6314, s2.loss_bbox: 0.1253, loss: 0.6859\n",
      "2022-06-24 21:10:49,503 - mmdet - INFO - Saving checkpoint at 10 epochs\n"
     ]
    },
    {
     "name": "stdout",
     "output_type": "stream",
     "text": [
      "[>>>>>>>>>>>>>>>>>>>>>>>>>>>>>>>>] 50/50, 10.5 task/s, elapsed: 5s, ETA:     0s\n",
      "---------------iou_thr: 0.5---------------\n"
     ]
    },
    {
     "name": "stderr",
     "output_type": "stream",
     "text": [
      "2022-06-24 21:10:56,157 - mmdet - INFO - \n",
      "+--------+-----+------+--------+-------+\n",
      "| class  | gts | dets | recall | ap    |\n",
      "+--------+-----+------+--------+-------+\n",
      "| teeth  | 388 | 738  | 0.876  | 0.767 |\n",
      "| caries | 6   | 0    | 0.000  | 0.000 |\n",
      "+--------+-----+------+--------+-------+\n",
      "| mAP    |     |      |        | 0.384 |\n",
      "+--------+-----+------+--------+-------+\n",
      "2022-06-24 21:10:56,160 - mmdet - INFO - Epoch(val) [10][50]\tAP50: 0.3840, mAP: 0.3836\n"
     ]
    }
   ],
   "source": [
    "from mmdet.datasets import build_dataset\n",
    "from mmdet.models import build_detector\n",
    "from mmdet.apis import train_detector, inference_detector, init_detector, show_result_pyplot\n",
    "\n",
    "\n",
    "# Build dataset\n",
    "datasets = [build_dataset(cfg.data.train)]\n",
    "\n",
    "# Build the detector\n",
    "model = build_detector(\n",
    "    cfg.model, train_cfg=cfg.get('train_cfg'), test_cfg=cfg.get('test_cfg'))\n",
    "# Add an attribute for visualization convenience\n",
    "model.CLASSES = datasets[0].CLASSES\n",
    "\n",
    "# Create work_dir\n",
    "mmcv.mkdir_or_exist(osp.abspath(cfg.work_dir))\n",
    "train_detector(model, datasets, cfg, distributed=False, validate=True)"
   ]
  },
  {
   "cell_type": "markdown",
   "id": "73dd73c2",
   "metadata": {
    "papermill": {
     "duration": 0.181546,
     "end_time": "2022-06-24T21:10:57.544288",
     "exception": false,
     "start_time": "2022-06-24T21:10:57.362742",
     "status": "completed"
    },
    "tags": []
   },
   "source": [
    "## Check model results"
   ]
  },
  {
   "cell_type": "code",
   "execution_count": 31,
   "id": "e401d507",
   "metadata": {
    "execution": {
     "iopub.execute_input": "2022-06-24T21:10:57.903437Z",
     "iopub.status.busy": "2022-06-24T21:10:57.903055Z",
     "iopub.status.idle": "2022-06-24T21:10:57.918581Z",
     "shell.execute_reply": "2022-06-24T21:10:57.917667Z"
    },
    "papermill": {
     "duration": 0.19842,
     "end_time": "2022-06-24T21:10:57.920699",
     "exception": false,
     "start_time": "2022-06-24T21:10:57.722279",
     "status": "completed"
    },
    "tags": []
   },
   "outputs": [],
   "source": [
    "model.cfg = cfg"
   ]
  },
  {
   "cell_type": "code",
   "execution_count": 32,
   "id": "33fa598f",
   "metadata": {
    "execution": {
     "iopub.execute_input": "2022-06-24T21:10:58.280986Z",
     "iopub.status.busy": "2022-06-24T21:10:58.280634Z",
     "iopub.status.idle": "2022-06-24T21:10:58.699773Z",
     "shell.execute_reply": "2022-06-24T21:10:58.698772Z"
    },
    "papermill": {
     "duration": 0.601887,
     "end_time": "2022-06-24T21:10:58.702451",
     "exception": false,
     "start_time": "2022-06-24T21:10:58.100564",
     "status": "completed"
    },
    "tags": []
   },
   "outputs": [],
   "source": [
    "model.cfg.dump(\"/kaggle/working/rcnn_teeth_v3_50ep.py\")"
   ]
  }
 ],
 "metadata": {
  "kernelspec": {
   "display_name": "Python 3",
   "language": "python",
   "name": "python3"
  },
  "language_info": {
   "codemirror_mode": {
    "name": "ipython",
    "version": 3
   },
   "file_extension": ".py",
   "mimetype": "text/x-python",
   "name": "python",
   "nbconvert_exporter": "python",
   "pygments_lexer": "ipython3",
   "version": "3.7.12"
  },
  "papermill": {
   "default_parameters": {},
   "duration": 1170.846298,
   "end_time": "2022-06-24T21:11:10.037979",
   "environment_variables": {},
   "exception": null,
   "input_path": "__notebook__.ipynb",
   "output_path": "__notebook__.ipynb",
   "parameters": {},
   "start_time": "2022-06-24T20:51:39.191681",
   "version": "2.3.4"
  }
 },
 "nbformat": 4,
 "nbformat_minor": 5
}
